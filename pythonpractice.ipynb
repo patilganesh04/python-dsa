{
 "cells": [
  {
   "cell_type": "code",
   "execution_count": 2,
   "id": "96cdb448",
   "metadata": {},
   "outputs": [
    {
     "name": "stdout",
     "output_type": "stream",
     "text": [
      "2\n"
     ]
    }
   ],
   "source": [
    "#finding missing values using cycle sort\n",
    "\n",
    "def find_missing_cycle_sort(nums):\n",
    "    n=len(nums)\n",
    "    i=0\n",
    "    while i<n:\n",
    "        correct_index=nums[i]\n",
    "        if nums[i]<n and nums[i]!=nums[correct_index]:\n",
    "            nums[i],nums[correct_index]=nums[correct_index],nums[i]\n",
    "        else:\n",
    "            i+=1\n",
    "    # return nums\n",
    "    for index in range(n):\n",
    "        if nums[index]!=index:\n",
    "            return index\n",
    "    return n\n",
    "nums=[3,0,1]\n",
    "print(find_missing_cycle_sort(nums))"
   ]
  },
  {
   "cell_type": "code",
   "execution_count": 3,
   "id": "d204fe00",
   "metadata": {},
   "outputs": [
    {
     "name": "stdout",
     "output_type": "stream",
     "text": [
      "3\n"
     ]
    }
   ],
   "source": [
    "def duplicate(nums):\n",
    "\n",
    "    for i in range(0,len(nums)):\n",
    "        for j in range(i+1,len(nums)):\n",
    "            if nums[i]==nums[j]:\n",
    "                return nums[i]\n",
    "    return -1\n",
    "\n",
    "nums=[3,1,3,4,2]\n",
    "print(duplicate(nums))"
   ]
  },
  {
   "cell_type": "code",
   "execution_count": 8,
   "id": "b2b1c611",
   "metadata": {},
   "outputs": [
    {
     "name": "stdout",
     "output_type": "stream",
     "text": [
      "2\n"
     ]
    }
   ],
   "source": [
    "#bubble sort implementation\n",
    "def bubble_sort(arr):\n",
    "    n=len(arr)\n",
    "    for i in range(n):\n",
    "        swapped=False\n",
    "        for j in range(0,n-i-1):\n",
    "            if arr[j]==arr[j+1]:\n",
    "                 return arr[j]\n",
    "\n",
    "    return arr[j]\n",
    "\n",
    "arr=[3,1,2,2]\n",
    "print(bubble_sort(arr))"
   ]
  },
  {
   "cell_type": "code",
   "execution_count": 10,
   "id": "a31f4070",
   "metadata": {},
   "outputs": [
    {
     "name": "stdout",
     "output_type": "stream",
     "text": [
      "3\n"
     ]
    }
   ],
   "source": [
    "#duplicate number\n",
    "\n",
    "def duplicate(nums):\n",
    "    for i in range(0,len(nums)):\n",
    "        for j in range(i+1,len(nums)):\n",
    "            if nums[i]==nums[j]:\n",
    "                return nums[i]\n",
    "    return -1\n",
    "nums=[3,1,3,4,2]\n",
    "print(duplicate(nums))"
   ]
  },
  {
   "cell_type": "code",
   "execution_count": null,
   "id": "c5d34ae0",
   "metadata": {},
   "outputs": [
    {
     "name": "stdout",
     "output_type": "stream",
     "text": [
      "None\n"
     ]
    }
   ],
   "source": [
    "\n",
    "def duplicate(nums):\n",
    "    temp=set()\n",
    "\n",
    "    for i in nums:\n",
    "        if i in temp:\n",
    "            return i\n",
    "        temp.add(i)\n",
    "\n",
    "\n",
    "nums=[3,1,3,4,2]\n",
    "print(duplicate(nums))"
   ]
  },
  {
   "cell_type": "code",
   "execution_count": 24,
   "id": "fd8f733b",
   "metadata": {},
   "outputs": [
    {
     "name": "stdout",
     "output_type": "stream",
     "text": [
      "[3, 2]\n"
     ]
    }
   ],
   "source": [
    "def find_duplicate_missing(nums):\n",
    "\n",
    "    nums=sorted(nums)\n",
    "    duplicate=-1\n",
    "    n=len(nums)\n",
    "\n",
    "    for i in range(1,n):\n",
    "        if nums[i]==nums[i-1]:\n",
    "            duplicate=nums[i]\n",
    "\n",
    "            break\n",
    "    expected_sum=n*(n+1)//2\n",
    "    actual_sum=sum(nums)\n",
    "    missing=expected_sum-(actual_sum-duplicate)\n",
    "    return [duplicate,missing]\n",
    "nums=[3,1,3,5,4]\n",
    "print(find_duplicate_missing(nums))"
   ]
  },
  {
   "cell_type": "code",
   "execution_count": 27,
   "id": "18010698",
   "metadata": {},
   "outputs": [
    {
     "name": "stdout",
     "output_type": "stream",
     "text": [
      "16\n",
      "13\n",
      "[3, 2]\n"
     ]
    }
   ],
   "source": [
    "def find_duplicate_missing1(nums):\n",
    "\n",
    "    n=len(nums)\n",
    "    expected_sum=n*(n+1)//2\n",
    "    actual_sum=sum(nums)\n",
    "    print(actual_sum)\n",
    "    sum_set=sum(set(nums))\n",
    "    print(sum_set)\n",
    "    duplicate=actual_sum-sum_set\n",
    "    missing=expected_sum-sum_set\n",
    "    return [duplicate,missing]\n",
    "nums=[3,1,3,5,4]\n",
    "print(find_duplicate_missing1(nums))"
   ]
  },
  {
   "cell_type": "code",
   "execution_count": 28,
   "id": "dba8aa39",
   "metadata": {},
   "outputs": [
    {
     "name": "stdout",
     "output_type": "stream",
     "text": [
      "[5, 6]\n"
     ]
    }
   ],
   "source": [
    "def find_disappeared(nums):\n",
    "    n=len(nums)\n",
    "    \n",
    "    nums_set=set(nums)\n",
    "    all_numbers_set=set(range(1,n+1))\n",
    "\n",
    "    missing_numbers=list(all_numbers_set-nums_set)\n",
    "\n",
    "    return missing_numbers\n",
    "nums=[4,3,2,7,8,2,3,1]\n",
    "print(find_disappeared(nums))"
   ]
  },
  {
   "cell_type": "code",
   "execution_count": null,
   "id": "61a29e9e",
   "metadata": {},
   "outputs": [],
   "source": []
  }
 ],
 "metadata": {
  "kernelspec": {
   "display_name": "Python 3",
   "language": "python",
   "name": "python3"
  },
  "language_info": {
   "codemirror_mode": {
    "name": "ipython",
    "version": 3
   },
   "file_extension": ".py",
   "mimetype": "text/x-python",
   "name": "python",
   "nbconvert_exporter": "python",
   "pygments_lexer": "ipython3",
   "version": "3.13.7"
  }
 },
 "nbformat": 4,
 "nbformat_minor": 5
}
