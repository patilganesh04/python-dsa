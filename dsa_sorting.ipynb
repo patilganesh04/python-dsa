{
 "cells": [
  {
   "cell_type": "code",
   "execution_count": 11,
   "id": "d2a6819b",
   "metadata": {},
   "outputs": [],
   "source": [
    "def bubble_sort(arr):\n",
    "    n=len(arr)\n",
    "    for i in range(n-1):\n",
    "        for j in range(n-i-1):\n",
    "            if(arr[j]>arr[j+1]):\n",
    "                arr[j],arr[j+1]=arr[j+1],arr[j]\n",
    "    return arr"
   ]
  },
  {
   "cell_type": "code",
   "execution_count": 12,
   "id": "18fa1b2b",
   "metadata": {},
   "outputs": [
    {
     "name": "stdout",
     "output_type": "stream",
     "text": [
      "[1, 2, 3, 4, 5]\n"
     ]
    }
   ],
   "source": [
    "s=bubble_sort([2,3,1,5,4])\n",
    "\n",
    "print(s)"
   ]
  },
  {
   "cell_type": "code",
   "execution_count": 15,
   "id": "d7fb53a6",
   "metadata": {},
   "outputs": [
    {
     "ename": "IndexError",
     "evalue": "list index out of range",
     "output_type": "error",
     "traceback": [
      "\u001b[31m---------------------------------------------------------------------------\u001b[39m",
      "\u001b[31mIndexError\u001b[39m                                Traceback (most recent call last)",
      "\u001b[36mCell\u001b[39m\u001b[36m \u001b[39m\u001b[32mIn[15]\u001b[39m\u001b[32m, line 8\u001b[39m\n\u001b[32m      6\u001b[39m \u001b[38;5;28;01mfor\u001b[39;00m i \u001b[38;5;129;01min\u001b[39;00m \u001b[38;5;28mrange\u001b[39m(n - \u001b[32m1\u001b[39m):\n\u001b[32m      7\u001b[39m     \u001b[38;5;28;01mfor\u001b[39;00m j \u001b[38;5;129;01min\u001b[39;00m \u001b[38;5;28mrange\u001b[39m(n - i - \u001b[32m1\u001b[39m):\n\u001b[32m----> \u001b[39m\u001b[32m8\u001b[39m         \u001b[38;5;28;01mif\u001b[39;00m arr[j] > \u001b[43marr\u001b[49m\u001b[43m[\u001b[49m\u001b[43mj\u001b[49m\u001b[43m \u001b[49m\u001b[43m+\u001b[49m\u001b[43m \u001b[49m\u001b[32;43m1\u001b[39;49m\u001b[43m]\u001b[49m:\n\u001b[32m      9\u001b[39m             \u001b[38;5;66;03m# Swap\u001b[39;00m\n\u001b[32m     10\u001b[39m             arr[j], arr[j + \u001b[32m1\u001b[39m] = arr[j + \u001b[32m1\u001b[39m], arr[j]\n\u001b[32m     12\u001b[39m \u001b[38;5;66;03m# Print sorted array\u001b[39;00m\n",
      "\u001b[31mIndexError\u001b[39m: list index out of range"
     ]
    }
   ],
   "source": [
    "# Read input\n",
    "n = int(input())\n",
    "arr = list(map(int, input().split()))\n",
    "\n",
    "# Bubble sort logic\n",
    "for i in range(n - 1):\n",
    "    for j in range(n - i - 1):\n",
    "        if arr[j] > arr[j + 1]:\n",
    "            # Swap\n",
    "            arr[j], arr[j + 1] = arr[j + 1], arr[j]\n",
    "\n",
    "# Print sorted array\n",
    "for num in arr:\n",
    "    print(num, end=\" \")\n"
   ]
  },
  {
   "cell_type": "code",
   "execution_count": 22,
   "id": "ccfd7bc8",
   "metadata": {},
   "outputs": [
    {
     "name": "stdout",
     "output_type": "stream",
     "text": [
      "[5, 5, 5, 5, 5]\n",
      "5\n"
     ]
    }
   ],
   "source": [
    "n = int(input(\"Enter number of elements: \"))\n",
    "arr = []  # initialize empty list\n",
    "\n",
    "for i in range(n):\n",
    "    a = int(input(f\"Enter element {i+1}: \"))  # convert input to int\n",
    "    arr.append(a)\n",
    "\n",
    "print(arr)\n",
    "\n",
    "count=0\n",
    "candiate=None\n",
    "\n",
    "for nums in arr:\n",
    "    if count==0:\n",
    "        candiate=nums\n",
    "    if candiate==nums:\n",
    "        count+=1\n",
    "    else:\n",
    "        count-=1\n",
    "print(candiate)\n",
    "\n"
   ]
  },
  {
   "cell_type": "code",
   "execution_count": 26,
   "id": "b5942479",
   "metadata": {},
   "outputs": [
    {
     "name": "stdout",
     "output_type": "stream",
     "text": [
      "2 1 0 2\n"
     ]
    }
   ],
   "source": [
    "# Step 0: Initialize array\n",
    "arr = []\n",
    "\n",
    "# Input\n",
    "n1 = int(input(\"Enter number of elements: \"))\n",
    "\n",
    "for i in range(n1):\n",
    "    a = int(input(f\"Enter element {i+1}: \"))\n",
    "    arr.append(a)\n",
    "\n",
    "n = len(arr)\n",
    "\n",
    "# Step 1: Bubble sort\n",
    "sorted_arr = arr.copy()\n",
    "for i in range(n - 1):\n",
    "    for j in range(n - i - 1):\n",
    "        if sorted_arr[j] > sorted_arr[j + 1]:\n",
    "            sorted_arr[j], sorted_arr[j + 1] = sorted_arr[j + 1], sorted_arr[j]\n",
    "\n",
    "# Step 2: Create mapping (handle duplicates)\n",
    "mapping = {}\n",
    "rank = 0\n",
    "for num in sorted_arr:\n",
    "    if num not in mapping:\n",
    "        mapping[num] = rank\n",
    "        rank += 1\n",
    "\n",
    "# Step 3: Transform original array\n",
    "compressed = [mapping[num] for num in arr]\n",
    "print(*compressed)\n"
   ]
  },
  {
   "cell_type": "code",
   "execution_count": 3,
   "id": "d1ae74c2",
   "metadata": {},
   "outputs": [],
   "source": [
    "#how much maximum swaps are needed to sort array of length 6 ?\n",
    "\n",
    "def bubble_sort(arr):\n",
    "    n=len(arr)\n",
    "    count=0\n",
    "    for i in range(n-1):\n",
    "        is_sorted=True\n",
    "        for j in range(n-i-1):\n",
    "            if arr[j]>arr[j+1]:\n",
    "                is_sorted=False\n",
    "                arr[j],arr[j+1]=arr[j+1],arr[j]\n",
    "                count+=1\n",
    "        if is_sorted:\n",
    "            break\n",
    "    print(count)\n",
    "    \n",
    "    return arr"
   ]
  },
  {
   "cell_type": "code",
   "execution_count": 7,
   "id": "2ea5aacc",
   "metadata": {},
   "outputs": [
    {
     "name": "stdout",
     "output_type": "stream",
     "text": [
      "10\n"
     ]
    },
    {
     "data": {
      "text/plain": [
       "[1, 2, 3, 4, 5]"
      ]
     },
     "execution_count": 7,
     "metadata": {},
     "output_type": "execute_result"
    }
   ],
   "source": [
    "arr=[5,4,3,2,1]\n",
    "bubble_sort(arr)"
   ]
  },
  {
   "cell_type": "code",
   "execution_count": null,
   "id": "6a15324e",
   "metadata": {},
   "outputs": [
    {
     "name": "stdout",
     "output_type": "stream",
     "text": [
      "\n",
      "Final dictionary:\n",
      "{'re': 45, 'tr': 65, 'ty': 75}\n",
      "\n",
      "Keys with values greater than 50:\n",
      "tr: 65\n",
      "ty: 75\n"
     ]
    }
   ],
   "source": [
    "# Create an empty dictionary\n",
    "data = {}\n",
    "\n",
    "# Ask how many entries to add\n",
    "n = int(input(\"How many entries do you want to add? \"))\n",
    "\n",
    "# Loop to take input and store in dictionary\n",
    "for i in range(n):\n",
    "    key = input(f\"Enter key for item {i+1}: \")\n",
    "    value = int(input(f\"Enter numeric value for {key}: \"))  # store as int\n",
    "    data[key] = value\n",
    "\n",
    "# Print the final dictionary\n",
    "print(\"\\nFinal dictionary:\")\n",
    "print(data)\n",
    "\n",
    "# Ask user for a threshold value\n",
    "value1 = int(input(\"\\nEnter value to print keys greater than this value: \"))\n",
    "\n",
    "# Print all keys with value greater than value1\n",
    "print(f\"\\nKeys with values greater than {value1}:\")\n",
    "n=data.items()\n",
    "for key, value in range(n-1):\n",
    "     for key, value in range(n-1):\n",
    "        if value > value1:\n",
    "            if \n",
    "            if\n",
    "        print(f\"{key}: {value}\")\n"
   ]
  },
  {
   "cell_type": "markdown",
   "id": "852f5453",
   "metadata": {},
   "source": []
  },
  {
   "cell_type": "code",
   "execution_count": 21,
   "id": "44fe71f4",
   "metadata": {},
   "outputs": [
    {
     "data": {
      "text/plain": [
       "'b 8 d 6 e 5'"
      ]
     },
     "execution_count": 21,
     "metadata": {},
     "output_type": "execute_result"
    }
   ],
   "source": [
    "def sortlist(str,x):\n",
    "\n",
    "    my_lst=str.split(\",\")\n",
    "    n=len(my_lst)\n",
    "\n",
    "    for i in range(n-1,0,-2):\n",
    "        if int(my_lst[i])<x:\n",
    "            del my_lst[i-1:i+1]\n",
    "    n=len(my_lst)\n",
    "\n",
    "    #sorting\n",
    "\n",
    "    for i in range(1,n,2):\n",
    "        for j in range(1,n-i,2):\n",
    "            if int(my_lst[j])<int(my_lst[j+2]):\n",
    "                my_lst[j],my_lst[j+2]=my_lst[j+2],my_lst[j]\n",
    "        return \" \".join(my_lst) \n",
    "str1=(\"a,3,b,5,c,2,d,8,e,6\")\n",
    "sortlist(str1,4)\n"
   ]
  },
  {
   "cell_type": "code",
   "execution_count": 33,
   "id": "bbf9b782",
   "metadata": {},
   "outputs": [],
   "source": [
    "def push_zero_last(arr):\n",
    "    count=0\n",
    "    n=len(arr)\n",
    "    temp=[0]*n\n",
    "\n",
    "    for i in range(n):\n",
    "        if arr[i]!=0:\n",
    "            temp[count]=arr[i]\n",
    "            count+=1\n",
    "        \n",
    "\n",
    "        \n",
    "    for i in range(n):\n",
    "        arr[i]=temp[i]\n",
    "    return arr"
   ]
  },
  {
   "cell_type": "code",
   "execution_count": 34,
   "id": "144645fb",
   "metadata": {},
   "outputs": [
    {
     "data": {
      "text/plain": [
       "[1, 9, 8, 4, 2, 7, 6, 9, 0, 0, 0, 0, 0]"
      ]
     },
     "execution_count": 34,
     "metadata": {},
     "output_type": "execute_result"
    }
   ],
   "source": [
    "arr = [0, 1, 9, 8, 4, 0, 0, 2, 7, 0, 6, 0, 9]\n",
    "push_zero_last(arr)\n"
   ]
  },
  {
   "cell_type": "code",
   "execution_count": null,
   "id": "a1ee48f5",
   "metadata": {},
   "outputs": [],
   "source": [
    " "
   ]
  },
  {
   "cell_type": "code",
   "execution_count": null,
   "id": "6b8255a8",
   "metadata": {},
   "outputs": [
    {
     "data": {
      "text/plain": [
       "[0, 0, 0, 0, 0, 0, 0, 0, 0, 0, 0, 0, 0]"
      ]
     },
     "execution_count": 37,
     "metadata": {},
     "output_type": "execute_result"
    }
   ],
   "source": [
    " "
   ]
  },
  {
   "cell_type": "code",
   "execution_count": null,
   "id": "2ce8b403",
   "metadata": {},
   "outputs": [],
   "source": []
  }
 ],
 "metadata": {
  "kernelspec": {
   "display_name": "Python 3",
   "language": "python",
   "name": "python3"
  },
  "language_info": {
   "codemirror_mode": {
    "name": "ipython",
    "version": 3
   },
   "file_extension": ".py",
   "mimetype": "text/x-python",
   "name": "python",
   "nbconvert_exporter": "python",
   "pygments_lexer": "ipython3",
   "version": "3.13.7"
  }
 },
 "nbformat": 4,
 "nbformat_minor": 5
}
