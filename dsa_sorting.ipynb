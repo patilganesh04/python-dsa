{
 "cells": [
  {
   "cell_type": "code",
   "execution_count": 11,
   "id": "d2a6819b",
   "metadata": {},
   "outputs": [],
   "source": [
    "def bubble_sort(arr):\n",
    "    n=len(arr)\n",
    "    for i in range(n-1):\n",
    "        for j in range(n-i-1):\n",
    "            if(arr[j]>arr[j+1]):\n",
    "                arr[j],arr[j+1]=arr[j+1],arr[j]\n",
    "    return arr"
   ]
  },
  {
   "cell_type": "code",
   "execution_count": 12,
   "id": "18fa1b2b",
   "metadata": {},
   "outputs": [
    {
     "name": "stdout",
     "output_type": "stream",
     "text": [
      "[1, 2, 3, 4, 5]\n"
     ]
    }
   ],
   "source": [
    "s=bubble_sort([2,3,1,5,4])\n",
    "\n",
    "print(s)"
   ]
  },
  {
   "cell_type": "code",
   "execution_count": 15,
   "id": "d7fb53a6",
   "metadata": {},
   "outputs": [
    {
     "ename": "IndexError",
     "evalue": "list index out of range",
     "output_type": "error",
     "traceback": [
      "\u001b[31m---------------------------------------------------------------------------\u001b[39m",
      "\u001b[31mIndexError\u001b[39m                                Traceback (most recent call last)",
      "\u001b[36mCell\u001b[39m\u001b[36m \u001b[39m\u001b[32mIn[15]\u001b[39m\u001b[32m, line 8\u001b[39m\n\u001b[32m      6\u001b[39m \u001b[38;5;28;01mfor\u001b[39;00m i \u001b[38;5;129;01min\u001b[39;00m \u001b[38;5;28mrange\u001b[39m(n - \u001b[32m1\u001b[39m):\n\u001b[32m      7\u001b[39m     \u001b[38;5;28;01mfor\u001b[39;00m j \u001b[38;5;129;01min\u001b[39;00m \u001b[38;5;28mrange\u001b[39m(n - i - \u001b[32m1\u001b[39m):\n\u001b[32m----> \u001b[39m\u001b[32m8\u001b[39m         \u001b[38;5;28;01mif\u001b[39;00m arr[j] > \u001b[43marr\u001b[49m\u001b[43m[\u001b[49m\u001b[43mj\u001b[49m\u001b[43m \u001b[49m\u001b[43m+\u001b[49m\u001b[43m \u001b[49m\u001b[32;43m1\u001b[39;49m\u001b[43m]\u001b[49m:\n\u001b[32m      9\u001b[39m             \u001b[38;5;66;03m# Swap\u001b[39;00m\n\u001b[32m     10\u001b[39m             arr[j], arr[j + \u001b[32m1\u001b[39m] = arr[j + \u001b[32m1\u001b[39m], arr[j]\n\u001b[32m     12\u001b[39m \u001b[38;5;66;03m# Print sorted array\u001b[39;00m\n",
      "\u001b[31mIndexError\u001b[39m: list index out of range"
     ]
    }
   ],
   "source": [
    "# Read input\n",
    "n = int(input())\n",
    "arr = list(map(int, input().split()))\n",
    "\n",
    "# Bubble sort logic\n",
    "for i in range(n - 1):\n",
    "    for j in range(n - i - 1):\n",
    "        if arr[j] > arr[j + 1]:\n",
    "            # Swap\n",
    "            arr[j], arr[j + 1] = arr[j + 1], arr[j]\n",
    "\n",
    "# Print sorted array\n",
    "for num in arr:\n",
    "    print(num, end=\" \")\n"
   ]
  },
  {
   "cell_type": "code",
   "execution_count": 22,
   "id": "ccfd7bc8",
   "metadata": {},
   "outputs": [
    {
     "name": "stdout",
     "output_type": "stream",
     "text": [
      "[5, 5, 5, 5, 5]\n",
      "5\n"
     ]
    }
   ],
   "source": [
    "n = int(input(\"Enter number of elements: \"))\n",
    "arr = []  # initialize empty list\n",
    "\n",
    "for i in range(n):\n",
    "    a = int(input(f\"Enter element {i+1}: \"))  # convert input to int\n",
    "    arr.append(a)\n",
    "\n",
    "print(arr)\n",
    "\n",
    "count=0\n",
    "candiate=None\n",
    "\n",
    "for nums in arr:\n",
    "    if count==0:\n",
    "        candiate=nums\n",
    "    if candiate==nums:\n",
    "        count+=1\n",
    "    else:\n",
    "        count-=1\n",
    "print(candiate)\n",
    "\n"
   ]
  },
  {
   "cell_type": "code",
   "execution_count": 26,
   "id": "b5942479",
   "metadata": {},
   "outputs": [
    {
     "name": "stdout",
     "output_type": "stream",
     "text": [
      "2 1 0 2\n"
     ]
    }
   ],
   "source": [
    "# Step 0: Initialize array\n",
    "arr = []\n",
    "\n",
    "# Input\n",
    "n1 = int(input(\"Enter number of elements: \"))\n",
    "\n",
    "for i in range(n1):\n",
    "    a = int(input(f\"Enter element {i+1}: \"))\n",
    "    arr.append(a)\n",
    "\n",
    "n = len(arr)\n",
    "\n",
    "# Step 1: Bubble sort\n",
    "sorted_arr = arr.copy()\n",
    "for i in range(n - 1):\n",
    "    for j in range(n - i - 1):\n",
    "        if sorted_arr[j] > sorted_arr[j + 1]:\n",
    "            sorted_arr[j], sorted_arr[j + 1] = sorted_arr[j + 1], sorted_arr[j]\n",
    "\n",
    "# Step 2: Create mapping (handle duplicates)\n",
    "mapping = {}\n",
    "rank = 0\n",
    "for num in sorted_arr:\n",
    "    if num not in mapping:\n",
    "        mapping[num] = rank\n",
    "        rank += 1\n",
    "\n",
    "# Step 3: Transform original array\n",
    "compressed = [mapping[num] for num in arr]\n",
    "print(*compressed)\n"
   ]
  },
  {
   "cell_type": "code",
   "execution_count": null,
   "id": "d1ae74c2",
   "metadata": {},
   "outputs": [],
   "source": []
  }
 ],
 "metadata": {
  "kernelspec": {
   "display_name": "Python 3",
   "language": "python",
   "name": "python3"
  },
  "language_info": {
   "codemirror_mode": {
    "name": "ipython",
    "version": 3
   },
   "file_extension": ".py",
   "mimetype": "text/x-python",
   "name": "python",
   "nbconvert_exporter": "python",
   "pygments_lexer": "ipython3",
   "version": "3.13.7"
  }
 },
 "nbformat": 4,
 "nbformat_minor": 5
}
