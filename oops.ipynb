{
 "cells": [
  {
   "cell_type": "code",
   "execution_count": 1,
   "id": "30d7149d",
   "metadata": {},
   "outputs": [
    {
     "name": "stdout",
     "output_type": "stream",
     "text": [
      "<__main__.person object at 0x000002356AE54980>\n"
     ]
    }
   ],
   "source": [
    "class person:\n",
    "    pass\n",
    "\n",
    "obj=person()\n",
    "print(obj)"
   ]
  },
  {
   "cell_type": "code",
   "execution_count": 3,
   "id": "f45c5b20",
   "metadata": {},
   "outputs": [
    {
     "name": "stdout",
     "output_type": "stream",
     "text": [
      "Ganesh\n"
     ]
    }
   ],
   "source": [
    "class person:\n",
    "    name=\"Ganesh\"\n",
    "    age=19\n",
    "ob=person()\n",
    "print(ob.name)"
   ]
  },
  {
   "cell_type": "code",
   "execution_count": 7,
   "id": "724b61ed",
   "metadata": {},
   "outputs": [
    {
     "name": "stdout",
     "output_type": "stream",
     "text": [
      "vishwa\n",
      "Ganesh\n"
     ]
    }
   ],
   "source": [
    "class person :\n",
    "    def __init__(self,name,age):\n",
    "        self.name=name\n",
    "        self.age=age\n",
    "per1=person(\"vishwa\",99)\n",
    "per2=person(\"Ganesh\",99)\n",
    "print(per1.name)\n",
    "print(per2.name)    "
   ]
  },
  {
   "cell_type": "code",
   "execution_count": 9,
   "id": "42f35d6e",
   "metadata": {},
   "outputs": [
    {
     "name": "stdout",
     "output_type": "stream",
     "text": [
      "vishwa india\n",
      "Ganesh india\n",
      "india\n"
     ]
    }
   ],
   "source": [
    "class person :\n",
    "    country=\"india\"\n",
    "    def __init__(self,name,age):\n",
    "        self.name=name\n",
    "        self.age=age\n",
    "per1=person(\"vishwa\",99)\n",
    "per2=person(\"Ganesh\",99)\n",
    "print(per1.name,per1.country)\n",
    "print(per2.name,per2.country)  \n",
    "print(person.country)"
   ]
  },
  {
   "cell_type": "code",
   "execution_count": null,
   "id": "a41f8270",
   "metadata": {},
   "outputs": [
    {
     "name": "stdout",
     "output_type": "stream",
     "text": [
      "('Ganesh', 99)\n"
     ]
    }
   ],
   "source": [
    "#methods Instance create\n",
    "class person :\n",
    "    def __init__(self,name,age):\n",
    "        self.name=name\n",
    "        self.age=age\n",
    "\n",
    "    def findage(self):\n",
    "        return self.name ,self.age\n",
    "per=person(\"Ganesh\",99)\n",
    "print(per.findage())\n",
    " "
   ]
  },
  {
   "cell_type": "code",
   "execution_count": 13,
   "id": "9e443c3f",
   "metadata": {},
   "outputs": [
    {
     "name": "stdout",
     "output_type": "stream",
     "text": [
      "('Ganesh', 99)\n",
      "hello FRom the class india\n"
     ]
    }
   ],
   "source": [
    "#class methode\n",
    "class person :\n",
    "    country=\"india\"\n",
    "    @classmethod\n",
    "    def greet(cls):\n",
    "        print(\"hello FRom the class\",cls.country)\n",
    "    def __init__(self,name,age):\n",
    "        self.name=name\n",
    "        self.age=age\n",
    "\n",
    "    def findage(self):\n",
    "        return self.name ,self.age\n",
    "per=person(\"Ganesh\",99)\n",
    "print(per.findage())\n",
    "person.greet()"
   ]
  },
  {
   "cell_type": "code",
   "execution_count": null,
   "id": "9acb7478",
   "metadata": {},
   "outputs": [
    {
     "name": "stdout",
     "output_type": "stream",
     "text": [
      "('Ganesh', 99)\n",
      "hello FRom the class india\n",
      "hello\n"
     ]
    }
   ],
   "source": [
    "#static \n",
    "class person :\n",
    "    country=\"india\"\n",
    "    @classmethod\n",
    "    def greet(cls):\n",
    "        print(\"hello FRom the class\",cls.country)\n",
    "\n",
    "    @staticmethod\n",
    "    def hello():\n",
    "        print(\"hello\")\n",
    "    def __init__(self,name,age):\n",
    "        self.name=name\n",
    "        self.age=age\n",
    "\n",
    "    def findage(self):\n",
    "        return self.name ,self.age\n",
    "per=person(\"Ganesh\",99)\n",
    "print(per.findage())\n",
    "person.greet()\n",
    "person.hello()"
   ]
  },
  {
   "cell_type": "code",
   "execution_count": 17,
   "id": "c30d9805",
   "metadata": {},
   "outputs": [
    {
     "name": "stdout",
     "output_type": "stream",
     "text": [
      "Ganesh\n",
      "99\n",
      "1000\n"
     ]
    }
   ],
   "source": [
    "#acces modifier public and private\n",
    "\n",
    "class person:\n",
    "    def __init__(self,name,age,salary):\n",
    "        self.name=name      #public\n",
    "        self.age=age     \n",
    "        self.__salary=salary   #private\n",
    "\n",
    "    def findage(self):\n",
    "        return self.age\n",
    "    def findsalary(self):\n",
    "        print(self.__salary)\n",
    "per=person(\"Ganesh\",99,1000)\n",
    "print(per.name)\n",
    "print(per.findage())\n",
    "#print(per.__salary)  #error\n",
    "per.findsalary()"
   ]
  },
  {
   "cell_type": "code",
   "execution_count": 1,
   "id": "12a6d0c5",
   "metadata": {},
   "outputs": [],
   "source": [
    "class person:\n",
    "    def __init__(self,name,car):\n",
    "        self.__name=name        \n",
    "        self.__car=car   \n",
    "    #Getters and Setters\n",
    "    # getter\n",
    "    def getname(self):\n",
    "        return self.__name\n",
    "    def setname(self,name):\n",
    "        self.__name=name\n",
    "    def getcar(self): \n",
    "        return self.__car\n",
    "    def setcar(self,car):\n",
    "        self.__car=car"
   ]
  },
  {
   "cell_type": "code",
   "execution_count": 3,
   "id": "408b3459",
   "metadata": {},
   "outputs": [
    {
     "name": "stdout",
     "output_type": "stream",
     "text": [
      "Ganesh\n",
      "BMW\n",
      "Vishwa\n"
     ]
    }
   ],
   "source": [
    "per=person(\"Ganesh\",\"BMW\")\n",
    "print(per.getname())\n",
    "print(per.getcar())\n",
    "per.setname(\"Vishwa\")\n",
    "print(per.getname())"
   ]
  },
  {
   "cell_type": "code",
   "execution_count": null,
   "id": "e450b5e0",
   "metadata": {},
   "outputs": [],
   "source": []
  }
 ],
 "metadata": {
  "kernelspec": {
   "display_name": "Python 3",
   "language": "python",
   "name": "python3"
  },
  "language_info": {
   "codemirror_mode": {
    "name": "ipython",
    "version": 3
   },
   "file_extension": ".py",
   "mimetype": "text/x-python",
   "name": "python",
   "nbconvert_exporter": "python",
   "pygments_lexer": "ipython3",
   "version": "3.13.7"
  }
 },
 "nbformat": 4,
 "nbformat_minor": 5
}
