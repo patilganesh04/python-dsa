{
 "cells": [
  {
   "cell_type": "code",
   "execution_count": 2,
   "id": "825aa5d1",
   "metadata": {},
   "outputs": [
    {
     "data": {
      "text/plain": [
       "<bound method Animal.speak of <__main__.Animal object at 0x000002088F531550>>"
      ]
     },
     "execution_count": 2,
     "metadata": {},
     "output_type": "execute_result"
    }
   ],
   "source": [
    "#abstraction\n",
    "\n",
    "class Animal:\n",
    "    def speak(self):\n",
    "        pass\n",
    "animal=Animal()\n",
    "animal.speak"
   ]
  },
  {
   "cell_type": "code",
   "execution_count": null,
   "id": "0b53cd0c",
   "metadata": {},
   "outputs": [
    {
     "ename": "TypeError",
     "evalue": "Can't instantiate abstract class Animal without an implementation for abstract method 'speak'",
     "output_type": "error",
     "traceback": [
      "\u001b[31m---------------------------------------------------------------------------\u001b[39m",
      "\u001b[31mTypeError\u001b[39m                                 Traceback (most recent call last)",
      "\u001b[36mCell\u001b[39m\u001b[36m \u001b[39m\u001b[32mIn[3]\u001b[39m\u001b[32m, line 7\u001b[39m\n\u001b[32m      4\u001b[39m     \u001b[38;5;129m@abstractmethod\u001b[39m\n\u001b[32m      5\u001b[39m     \u001b[38;5;28;01mdef\u001b[39;00m\u001b[38;5;250m \u001b[39m\u001b[34mspeak\u001b[39m(\u001b[38;5;28mself\u001b[39m):\n\u001b[32m      6\u001b[39m         \u001b[38;5;28;01mpass\u001b[39;00m\n\u001b[32m----> \u001b[39m\u001b[32m7\u001b[39m a=\u001b[43mAnimal\u001b[49m\u001b[43m(\u001b[49m\u001b[43m)\u001b[49m\n",
      "\u001b[31mTypeError\u001b[39m: Can't instantiate abstract class Animal without an implementation for abstract method 'speak'"
     ]
    }
   ],
   "source": [
    "from abc import ABC,abstractmethod\n",
    "\n",
    "class Animal(ABC):\n",
    "    @abstractmethod\n",
    "    def speak(self):\n",
    "        pass\n",
    "\n",
    "    \n",
    "a=Animal()"
   ]
  },
  {
   "cell_type": "code",
   "execution_count": 6,
   "id": "23211279",
   "metadata": {},
   "outputs": [],
   "source": [
    "class Dog(Animal):\n",
    "    def eat(self):\n",
    "        print(\"Woof Woof\")\n",
    "    def speak(self):\n",
    "        pass\n",
    "d=Dog()"
   ]
  },
  {
   "cell_type": "code",
   "execution_count": null,
   "id": "461ffc4a",
   "metadata": {},
   "outputs": [
    {
     "name": "stdout",
     "output_type": "stream",
     "text": [
      "Moo Moo\n",
      "Meow Meow\n",
      "Animal speaks\n"
     ]
    }
   ],
   "source": [
    "#polymorphism using inheritance\n",
    "\n",
    "class Animal:\n",
    "    def speak(self):\n",
    "        print(\"Animal speaks\")\n",
    "class Cat(Animal):\n",
    "    def speak(self):  #overriding\n",
    "        print(\"Meow Meow\")\n",
    "class Cow(Animal):\n",
    "    def speak(self): #overriding\n",
    "        print(\"Moo Moo\")\n",
    "c=Cow()\n",
    "d=Cat()\n",
    "e=Animal()\n",
    "c.speak()\n",
    "d.speak()\n",
    "e.speak()"
   ]
  },
  {
   "cell_type": "code",
   "execution_count": 14,
   "id": "c7eff454",
   "metadata": {},
   "outputs": [
    {
     "name": "stdout",
     "output_type": "stream",
     "text": [
      "Sparrow can fly\n",
      "Aeroplane can fly\n",
      "Sparrow can fly\n"
     ]
    }
   ],
   "source": [
    "class birdfly:\n",
    "    def flybird(self,bird):\n",
    "        bird.fly()  #polymorphism without inheritance\n",
    "class sparrow:\n",
    "    def fly(self):\n",
    "        print(\"Sparrow can fly\")\n",
    "class aeroplane:\n",
    "    def fly(self):\n",
    "        print(\"Aeroplane can fly\")\n",
    "b=birdfly()\n",
    "s=sparrow()\n",
    "a=aeroplane()\n",
    "b.flybird(s)\n",
    "b.flybird(a)\n",
    "s.fly()\n",
    "#polymorphism using function overloading"
   ]
  },
  {
   "cell_type": "code",
   "execution_count": 15,
   "id": "81432f82",
   "metadata": {},
   "outputs": [
    {
     "name": "stdout",
     "output_type": "stream",
     "text": [
      "Car model is Mustang and engine type is V8\n"
     ]
    }
   ],
   "source": [
    "#has A aggregation\n",
    "\n",
    "class Engine:\n",
    "    def __init__(self,engine_type):\n",
    "        self.engine_type=engine_type\n",
    "class Car:\n",
    "    def __init__(self,model,engine):\n",
    "        self.model=model\n",
    "        self.engine=engine\n",
    "    def display(self):\n",
    "        print(f\"Car model is {self.model} and engine type is {self.engine.engine_type}\")\n",
    "e=Engine(\"V8\")\n",
    "c=Car(\"Mustang\",e)\n",
    "c.display()"
   ]
  },
  {
   "cell_type": "code",
   "execution_count": 16,
   "id": "40be6de3",
   "metadata": {},
   "outputs": [
    {
     "name": "stdout",
     "output_type": "stream",
     "text": [
      "Car model is Tesla Model S and battery capacity is 100 kWh\n"
     ]
    }
   ],
   "source": [
    "#composition\n",
    "class Battery:\n",
    "    def __init__(self,capacity):\n",
    "        self.capacity=capacity\n",
    "class ElectricCar:\n",
    "    def __init__(self,model):\n",
    "        self.model=model\n",
    "        self.battery=Battery(100)  #composition\n",
    "    def display(self):\n",
    "        print(f\"Car model is {self.model} and battery capacity is {self.battery.capacity} kWh\")\n",
    "ec=ElectricCar(\"Tesla Model S\")\n",
    "ec.display()\n"
   ]
  },
  {
   "cell_type": "code",
   "execution_count": null,
   "id": "67dcb337",
   "metadata": {},
   "outputs": [],
   "source": []
  }
 ],
 "metadata": {
  "kernelspec": {
   "display_name": "Python 3",
   "language": "python",
   "name": "python3"
  },
  "language_info": {
   "codemirror_mode": {
    "name": "ipython",
    "version": 3
   },
   "file_extension": ".py",
   "mimetype": "text/x-python",
   "name": "python",
   "nbconvert_exporter": "python",
   "pygments_lexer": "ipython3",
   "version": "3.13.7"
  }
 },
 "nbformat": 4,
 "nbformat_minor": 5
}
