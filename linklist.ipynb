{
 "cells": [
  {
   "cell_type": "markdown",
   "id": "ddd66d73",
   "metadata": {},
   "source": [
    "Create a Node\n"
   ]
  },
  {
   "cell_type": "code",
   "execution_count": 2,
   "id": "600e1324",
   "metadata": {},
   "outputs": [],
   "source": [
    "class node:\n",
    "    def __int__(self,data):\n",
    "        self.data=data\n",
    "        self.next=None\n"
   ]
  },
  {
   "cell_type": "markdown",
   "id": "0c4544db",
   "metadata": {},
   "source": [
    "Create a linklist"
   ]
  },
  {
   "cell_type": "code",
   "execution_count": null,
   "id": "7fa6b3cc",
   "metadata": {},
   "outputs": [],
   "source": [
    "class linkedlist:\n",
    "    def __init__(self):\n",
    "        self.head=None\n",
    "    \n",
    "    #addind node to linklist\n",
    "    def addnode(self,data):\n",
    "        newnode=node(data)\n",
    "        if self.head is None:\n",
    "            self.head=newnode\n",
    "            return\n",
    "        lastnode=self.head\n",
    "        while lastnode.next:\n",
    "            lastnode=lastnode.next\n",
    "        lastnode.next=newnode"
   ]
  },
  {
   "cell_type": "code",
   "execution_count": 8,
   "id": "a69b7d81",
   "metadata": {},
   "outputs": [
    {
     "name": "stdout",
     "output_type": "stream",
     "text": [
      "1\n",
      "2\n"
     ]
    }
   ],
   "source": [
    "class create_node:\n",
    "    def __init__(self,val):\n",
    "        self.val=val\n",
    "        self.next=None\n",
    "\n",
    "class link_list:\n",
    "    def __init__(self):\n",
    "        self.head=None\n",
    "    def append(self,val):\n",
    "        new_node=create_node(val)\n",
    "        if self.head==None:\n",
    "            self.head=new_node\n",
    "        else:\n",
    "            cur=self.head\n",
    "            while cur.next is not None:\n",
    "                cur=cur.next\n",
    "            cur.next=new_node\n",
    "\n",
    "\n",
    "#displauy linklist\n",
    "    def display(self):\n",
    "        cur=self.head\n",
    "        while cur:\n",
    "            print(cur.val)\n",
    "            cur=cur.next\n",
    "ll=link_list()\n",
    "ll.append(val=1)\n",
    "ll.append(2)\n",
    "ll.display()\n"
   ]
  },
  {
   "cell_type": "code",
   "execution_count": null,
   "id": "f1cb4e06",
   "metadata": {},
   "outputs": [],
   "source": [
    "#recursive\n"
   ]
  },
  {
   "cell_type": "markdown",
   "id": "7da3568d",
   "metadata": {},
   "source": []
  }
 ],
 "metadata": {
  "kernelspec": {
   "display_name": "Python 3",
   "language": "python",
   "name": "python3"
  },
  "language_info": {
   "codemirror_mode": {
    "name": "ipython",
    "version": 3
   },
   "file_extension": ".py",
   "mimetype": "text/x-python",
   "name": "python",
   "nbconvert_exporter": "python",
   "pygments_lexer": "ipython3",
   "version": "3.13.7"
  }
 },
 "nbformat": 4,
 "nbformat_minor": 5
}
