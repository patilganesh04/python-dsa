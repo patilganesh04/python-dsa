{
 "cells": [
  {
   "cell_type": "code",
   "execution_count": 8,
   "id": "9f88c0a5",
   "metadata": {},
   "outputs": [
    {
     "name": "stdout",
     "output_type": "stream",
     "text": [
      "G\n",
      "a\n",
      "n\n",
      "e\n",
      "h\n",
      "Done\n"
     ]
    }
   ],
   "source": [
    "str=\"Ganesh\"\n",
    "\n",
    "for s in str:\n",
    "    if(s!=\"s\"):\n",
    "        print(s)\n",
    "print(\"Done\")   "
   ]
  },
  {
   "cell_type": "code",
   "execution_count": 11,
   "id": "a57455d5",
   "metadata": {},
   "outputs": [
    {
     "name": "stdout",
     "output_type": "stream",
     "text": [
      "1\n",
      "2\n",
      "3\n",
      "4\n",
      "5\n",
      "Index out of range\n"
     ]
    }
   ],
   "source": [
    "arr=[1,2,3,4,5]\n",
    "\n",
    "for i in range(6):\n",
    "    try:\n",
    "        print(arr[i])\n",
    "    except IndexError:\n",
    "        print(\"Index out of range\")\n"
   ]
  },
  {
   "cell_type": "code",
   "execution_count": null,
   "id": "c161e3ff",
   "metadata": {},
   "outputs": [
    {
     "name": "stdout",
     "output_type": "stream",
     "text": [
      "Ganesh\n",
      "Kiran\n",
      "Akash\n",
      "THis line has to be mandatory executed\n"
     ]
    }
   ],
   "source": [
    "arr=[\"Ganesh\",\"Kiran\",\"Akash\"]\n",
    "try:\n",
    "    for i in range(3):\n",
    "        print(arr[i])\n",
    "except:\n",
    "    print(\"Execution Handles\")\n",
    "print(\"THis line has to be mandatory executed\")"
   ]
  },
  {
   "cell_type": "code",
   "execution_count": null,
   "id": "97cbf236",
   "metadata": {},
   "outputs": [
    {
     "ename": "Exception",
     "evalue": "lenght of the given list is 3 ehich is <4",
     "output_type": "error",
     "traceback": [
      "\u001b[31m---------------------------------------------------------------------------\u001b[39m",
      "\u001b[31mException\u001b[39m                                 Traceback (most recent call last)",
      "\u001b[36mCell\u001b[39m\u001b[36m \u001b[39m\u001b[32mIn[14]\u001b[39m\u001b[32m, line 4\u001b[39m\n\u001b[32m      1\u001b[39m arr=[\u001b[32m1\u001b[39m,\u001b[32m2\u001b[39m,\u001b[32m3\u001b[39m]\n\u001b[32m      3\u001b[39m \u001b[38;5;28;01mif\u001b[39;00m \u001b[38;5;28mlen\u001b[39m(arr)<\u001b[32m4\u001b[39m:\n\u001b[32m----> \u001b[39m\u001b[32m4\u001b[39m     \u001b[38;5;28;01mraise\u001b[39;00m \u001b[38;5;167;01mException\u001b[39;00m(\u001b[33mf\u001b[39m\u001b[33m\"\u001b[39m\u001b[33mlenght of the given list is \u001b[39m\u001b[38;5;132;01m{\u001b[39;00m\u001b[38;5;28mlen\u001b[39m(arr)\u001b[38;5;132;01m}\u001b[39;00m\u001b[33m ehich is <4\u001b[39m\u001b[33m\"\u001b[39m)\n",
      "\u001b[31mException\u001b[39m: lenght of the given list is 3 ehich is <4"
     ]
    }
   ],
   "source": [
    "arr=[1,2,3]\n",
    "\n",
    "if len(arr)<4:\n",
    "    raise Exception(f\"lenght of the given list is {len(arr)} which is <4\")\n"
   ]
  },
  {
   "cell_type": "code",
   "execution_count": 16,
   "id": "dd10e5a1",
   "metadata": {},
   "outputs": [
    {
     "name": "stdout",
     "output_type": "stream",
     "text": [
      "2.46621207433047\n"
     ]
    },
    {
     "ename": "AssertionError",
     "evalue": "pass a positive number",
     "output_type": "error",
     "traceback": [
      "\u001b[31m---------------------------------------------------------------------------\u001b[39m",
      "\u001b[31mAssertionError\u001b[39m                            Traceback (most recent call last)",
      "\u001b[36mCell\u001b[39m\u001b[36m \u001b[39m\u001b[32mIn[16]\u001b[39m\u001b[32m, line 5\u001b[39m\n\u001b[32m      3\u001b[39m     \u001b[38;5;28;01mreturn\u001b[39;00m num**(\u001b[32m1\u001b[39m/\u001b[32m3\u001b[39m)\n\u001b[32m      4\u001b[39m \u001b[38;5;28mprint\u001b[39m(cube(\u001b[32m15\u001b[39m))\n\u001b[32m----> \u001b[39m\u001b[32m5\u001b[39m \u001b[38;5;28mprint\u001b[39m(\u001b[43mcube\u001b[49m\u001b[43m(\u001b[49m\u001b[43m-\u001b[49m\u001b[32;43m4\u001b[39;49m\u001b[43m)\u001b[49m)\n",
      "\u001b[36mCell\u001b[39m\u001b[36m \u001b[39m\u001b[32mIn[16]\u001b[39m\u001b[32m, line 2\u001b[39m, in \u001b[36mcube\u001b[39m\u001b[34m(num)\u001b[39m\n\u001b[32m      1\u001b[39m \u001b[38;5;28;01mdef\u001b[39;00m\u001b[38;5;250m \u001b[39m\u001b[34mcube\u001b[39m(num):\n\u001b[32m----> \u001b[39m\u001b[32m2\u001b[39m     \u001b[38;5;28;01massert\u001b[39;00m(num>\u001b[32m0\u001b[39m),\u001b[33m\"\u001b[39m\u001b[33mpass a positive number\u001b[39m\u001b[33m\"\u001b[39m\n\u001b[32m      3\u001b[39m     \u001b[38;5;28;01mreturn\u001b[39;00m num**(\u001b[32m1\u001b[39m/\u001b[32m3\u001b[39m)\n",
      "\u001b[31mAssertionError\u001b[39m: pass a positive number"
     ]
    }
   ],
   "source": [
    "def cube(num):\n",
    "    assert(num>0),\"pass a positive number\"\n",
    "    return num**(1/3)\n",
    "print(cube(15))\n",
    "print(cube(-4))"
   ]
  },
  {
   "cell_type": "code",
   "execution_count": 18,
   "id": "50409b90",
   "metadata": {},
   "outputs": [
    {
     "name": "stdout",
     "output_type": "stream",
     "text": [
      "please provide valid positive integer\n",
      "last line\n"
     ]
    }
   ],
   "source": [
    "def cube(num):\n",
    "    assert(num>0),\"pass a positive number\"\n",
    "    return num**(1/3)\n",
    " \n",
    "try:\n",
    "    val=cube(-7)\n",
    "    print(val)\n",
    "except:\n",
    "    print('please provide valid positive integer')\n",
    "print(\"last line\")"
   ]
  },
  {
   "cell_type": "code",
   "execution_count": 23,
   "id": "d060104c",
   "metadata": {},
   "outputs": [
    {
     "name": "stdout",
     "output_type": "stream",
     "text": [
      "can't divide a number\n",
      "None\n"
     ]
    }
   ],
   "source": [
    "def oprate(num):\n",
    "    try:\n",
    "        result=5/num\n",
    "    except ZeroDivisionError :\n",
    "        print(\"can't divide a number\")\n",
    "    else:\n",
    "        print(result)\n",
    "print(oprate(0))"
   ]
  },
  {
   "cell_type": "code",
   "execution_count": 24,
   "id": "893dc10f",
   "metadata": {},
   "outputs": [],
   "source": [
    " \n",
    "from ast import arguments\n",
    "class EmptyExeceptiom(RuntimeError):\n",
    "    def __init__(self,argument):\n",
    "        self.arguments=argument\n",
    "var=\"\"\n",
    "\n"
   ]
  },
  {
   "cell_type": "code",
   "execution_count": 31,
   "id": "155c5115",
   "metadata": {},
   "outputs": [
    {
     "name": "stdout",
     "output_type": "stream",
     "text": [
      "12\n"
     ]
    }
   ],
   "source": [
    "class Num:\n",
    "    def __init__(self, num):\n",
    "        self.num=num\n",
    "    def __add__(self,u):\n",
    "        return self.num + u.num\n",
    "num1=Num(5)\n",
    "\n",
    "num2=Num(7)\n",
    "\n",
    "res=num1+num2\n",
    "print(res)"
   ]
  },
  {
   "cell_type": "code",
   "execution_count": 32,
   "id": "47bfb4eb",
   "metadata": {},
   "outputs": [
    {
     "name": "stdout",
     "output_type": "stream",
     "text": [
      "(12, 14)\n"
     ]
    }
   ],
   "source": [
    "class composite:\n",
    "    def __init__(self,a,b):\n",
    "        self.a=a\n",
    "        self.b=b\n",
    "    def __add__(self,u):\n",
    "        return self.a + u.a , self.b + u.b\n",
    "obj1=composite(5,6)\n",
    "obj2=composite(7,8)\n",
    "res=obj1+obj2\n",
    "print(res)"
   ]
  },
  {
   "cell_type": "code",
   "execution_count": 33,
   "id": "36202001",
   "metadata": {},
   "outputs": [
    {
     "name": "stdout",
     "output_type": "stream",
     "text": [
      "True\n"
     ]
    }
   ],
   "source": [
    "class democomparisonoverloading:\n",
    "    def __init__(self,a):\n",
    "        self.a=a\n",
    "    def __lt__(self,O):\n",
    "        if(self.a>O.a):\n",
    "            return True\n",
    "        return False\n",
    "obj1=democomparisonoverloading(5)\n",
    "obj2=democomparisonoverloading(7)\n",
    "print(obj1>obj2)"
   ]
  },
  {
   "cell_type": "code",
   "execution_count": null,
   "id": "3f3751ed",
   "metadata": {},
   "outputs": [],
   "source": [
    " \n",
    "#file handling\n",
    "\n",
    "\n"
   ]
  }
 ],
 "metadata": {
  "kernelspec": {
   "display_name": "Python 3",
   "language": "python",
   "name": "python3"
  },
  "language_info": {
   "codemirror_mode": {
    "name": "ipython",
    "version": 3
   },
   "file_extension": ".py",
   "mimetype": "text/x-python",
   "name": "python",
   "nbconvert_exporter": "python",
   "pygments_lexer": "ipython3",
   "version": "3.13.7"
  }
 },
 "nbformat": 4,
 "nbformat_minor": 5
}
