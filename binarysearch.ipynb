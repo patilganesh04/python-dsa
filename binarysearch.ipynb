{
 "cells": [
  {
   "cell_type": "code",
   "execution_count": null,
   "id": "b3909e99",
   "metadata": {},
   "outputs": [],
   "source": []
  },
  {
   "cell_type": "code",
   "execution_count": null,
   "id": "20bdc761",
   "metadata": {},
   "outputs": [],
   "source": []
  },
  {
   "cell_type": "code",
   "execution_count": null,
   "id": "8c6805bf",
   "metadata": {},
   "outputs": [
    {
     "data": {
      "text/plain": [
       "0"
      ]
     },
     "execution_count": 5,
     "metadata": {},
     "output_type": "execute_result"
    }
   ],
   "source": [
    "#linear search\n",
    "def lower_bond(arr,x):\n",
    "    n=len(arr)\n",
    "\n",
    "    for i in range(n):\n",
    "        if arr[i]>=x:\n",
    "            return i\n",
    "    return i+1\n",
    "\n",
    "a=[2,2,2,2,2,3,5,6,7]\n",
    "x=1\n",
    "lower_bond(a,x)\n"
   ]
  },
  {
   "cell_type": "code",
   "execution_count": null,
   "id": "b663ee6e",
   "metadata": {},
   "outputs": [],
   "source": [
    "def lower_bond(arr,x):\n",
    "    n=len(arr)\n",
    "\n",
    "    for i in range(n):\n",
    "        if arr[i]>=x:\n",
    "            return i\n",
    "    return i+1\n",
    "\n",
    "a=[2,2,2,2,2,3,5,6,7]\n",
    "x=1\n",
    "lower_bond(a,x)"
   ]
  },
  {
   "cell_type": "code",
   "execution_count": null,
   "id": "919dddcc",
   "metadata": {},
   "outputs": [],
   "source": []
  }
 ],
 "metadata": {
  "kernelspec": {
   "display_name": "Python 3",
   "language": "python",
   "name": "python3"
  },
  "language_info": {
   "codemirror_mode": {
    "name": "ipython",
    "version": 3
   },
   "file_extension": ".py",
   "mimetype": "text/x-python",
   "name": "python",
   "nbconvert_exporter": "python",
   "pygments_lexer": "ipython3",
   "version": "3.13.7"
  }
 },
 "nbformat": 4,
 "nbformat_minor": 5
}
