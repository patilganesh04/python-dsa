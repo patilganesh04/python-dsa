{
 "cells": [
  {
   "cell_type": "code",
   "execution_count": null,
   "id": "b3909e99",
   "metadata": {},
   "outputs": [],
   "source": []
  },
  {
   "cell_type": "code",
   "execution_count": null,
   "id": "20bdc761",
   "metadata": {},
   "outputs": [],
   "source": []
  },
  {
   "cell_type": "code",
   "execution_count": null,
   "id": "8c6805bf",
   "metadata": {},
   "outputs": [
    {
     "data": {
      "text/plain": [
       "0"
      ]
     },
     "execution_count": 5,
     "metadata": {},
     "output_type": "execute_result"
    }
   ],
   "source": [
    "#linear search\n",
    "def lower_bond(arr,x):\n",
    "    n=len(arr)\n",
    "\n",
    "    for i in range(n):\n",
    "        if arr[i]>=x:\n",
    "            return i\n",
    "    return i+1\n",
    "\n",
    "a=[2,2,2,2,2,3,5,6,7]\n",
    "x=1\n",
    "lower_bond(a,x)\n"
   ]
  },
  {
   "cell_type": "code",
   "execution_count": null,
   "id": "b663ee6e",
   "metadata": {},
   "outputs": [],
   "source": [
    "def lower_bond(arr,x):\n",
    "    n=len(arr)\n",
    "\n",
    "    for i in range(n):\n",
    "        if arr[i]>=x:\n",
    "            return i\n",
    "    return i+1\n",
    "\n",
    "a=[2,2,2,2,2,3,5,6,7]\n",
    "x=1\n",
    "lower_bond(a,x)"
   ]
  },
  {
   "cell_type": "code",
   "execution_count": 3,
   "id": "919dddcc",
   "metadata": {},
   "outputs": [
    {
     "data": {
      "text/plain": [
       "2"
      ]
     },
     "execution_count": 3,
     "metadata": {},
     "output_type": "execute_result"
    }
   ],
   "source": [
    "#peak index\n",
    "\n",
    "#linear search\n",
    "\n",
    "def peak1(arr):\n",
    "    n=len(arr)\n",
    "\n",
    "    if arr[0]>arr[1]:\n",
    "        return 0\n",
    "    if arr[n-1]>arr[n-2]:\n",
    "        return n-1\n",
    "    if n==1:\n",
    "        return 0\n",
    "    for i in range(1,n-1):\n",
    "        if arr[i]>arr[i+1] and arr[i]>arr[i-1]:\n",
    "            return i\n",
    "\n",
    "arr=[1,2,3,2,1]\n",
    "peak1(arr)\n",
    "\n",
    "     \n"
   ]
  },
  {
   "cell_type": "code",
   "execution_count": 22,
   "id": "bc920d27",
   "metadata": {},
   "outputs": [
    {
     "data": {
      "text/plain": [
       "4"
      ]
     },
     "execution_count": 22,
     "metadata": {},
     "output_type": "execute_result"
    }
   ],
   "source": [
    "#binary search\n",
    "\n",
    "def find_peak_search(arr):\n",
    "    n=len(arr)\n",
    "    low=0\n",
    "    high=len(arr)-1\n",
    "\n",
    "    while(low<high):\n",
    "        mid=low+(high-low)//2\n",
    "\n",
    "        if (mid == 0) or (arr[mid - 1] < arr[mid]) and (mid == n - 1) or (arr[mid + 1] < arr[mid]):\n",
    "            return mid\n",
    "        elif mid>0 and arr[mid-1]>arr[mid]:\n",
    "            high=mid-1\n",
    "        else:\n",
    "            low=mid+1\n",
    "        \n",
    "    return -1\n",
    "arr=[43,65,99,43,67]\n",
    "peak1(arr)\n",
    "        "
   ]
  },
  {
   "cell_type": "code",
   "execution_count": null,
   "id": "2445718c",
   "metadata": {},
   "outputs": [],
   "source": [
    "def find_peak_search(arr):\n",
    "    n=len(arr)\n",
    "    low=0\n",
    "    high=len(arr)-1\n",
    "        left, right = 1, len(arr) - 2\n",
    "\n",
    "        while left <= right:\n",
    "            mid = (left + right) // 2\n",
    "\n",
    "            if arr[mid - 1] < arr[mid] > arr[mid + 1]:\n",
    "                return mid\n",
    "            \n",
    "            if arr[mid] < arr[mid + 1]:\n",
    "                left = mid\n",
    "\n",
    "            elif arr[mid - 1] > arr[mid]:\n",
    "                right = mid"
   ]
  },
  {
   "cell_type": "code",
   "execution_count": 11,
   "id": "456bb725",
   "metadata": {},
   "outputs": [
    {
     "data": {
      "text/plain": [
       "6"
      ]
     },
     "execution_count": 11,
     "metadata": {},
     "output_type": "execute_result"
    }
   ],
   "source": [
    "#binary search\n",
    "\n",
    "def find_peak_search(arr):\n",
    "    n=len(arr)\n",
    "    low=0\n",
    "    high=len(arr)-1\n",
    "\n",
    "    while(low<=high):\n",
    "        mid=low+(high-low)//2\n",
    "\n",
    "        if arr[mid-1]<arr[mid]>arr[mid+1]:\n",
    "\n",
    "            return mid\n",
    "        elif mid>0 and arr[mid-1]>arr[mid]:\n",
    "            high=mid-1\n",
    "        else:\n",
    "            low=mid+1\n",
    "        \n",
    "    return -1\n",
    "\n",
    " \n",
    "arr=[43,65,100,43,67,98,99]\n",
    "peak1(arr)\n",
    "        \n",
    "        "
   ]
  },
  {
   "cell_type": "code",
   "execution_count": 31,
   "id": "9aa1abbe",
   "metadata": {},
   "outputs": [
    {
     "data": {
      "text/plain": [
       "[2, 2]"
      ]
     },
     "execution_count": 31,
     "metadata": {},
     "output_type": "execute_result"
    }
   ],
   "source": [
    "#first and last\n",
    "\n",
    "def first(arr,x):\n",
    "    first=-1\n",
    "    last=-1\n",
    "\n",
    "    for i in range(len(arr)):\n",
    "        if x!=arr[i]:\n",
    "            continue\n",
    "        if first==-1:\n",
    "            first=i\n",
    "        last=i\n",
    "    return [first,last]\n",
    "    \n",
    " \n",
    "arr=[43,65,100,43,67,98,99]\n",
    "first(arr,100)"
   ]
  },
  {
   "cell_type": "code",
   "execution_count": 36,
   "id": "986a5eb8",
   "metadata": {},
   "outputs": [
    {
     "name": "stdout",
     "output_type": "stream",
     "text": [
      "[4, 6]\n"
     ]
    }
   ],
   "source": [
    "def first1(arr, x):\n",
    "    first = -1\n",
    "    low = 0\n",
    "    high = len(arr) - 1\n",
    "\n",
    "    while low <= high:\n",
    "        mid = low + (high - low) // 2\n",
    "        if arr[mid] == x:\n",
    "            first = mid\n",
    "            high = mid - 1   # keep searching left\n",
    "        elif arr[mid] > x:\n",
    "            high = mid - 1\n",
    "        else:\n",
    "            low = mid + 1\n",
    "    return first\n",
    "\n",
    "\n",
    "def last1(arr, x):\n",
    "    last = -1\n",
    "    low = 0\n",
    "    high = len(arr) - 1\n",
    "\n",
    "    while low <= high:\n",
    "        mid = low + (high - low) // 2\n",
    "        if arr[mid] == x:\n",
    "            last = mid\n",
    "            low = mid + 1    # keep searching right\n",
    "        elif arr[mid] > x:\n",
    "            high = mid - 1\n",
    "        else:\n",
    "            low = mid + 1\n",
    "    return last\n",
    "\n",
    "\n",
    "def first_and_last(arr, x):\n",
    "    return [first1(arr, x), last1(arr, x)]\n",
    "\n",
    "\n",
    "# Example (must be sorted)\n",
    "arr = [43, 65, 98, 99, 100, 100, 100]\n",
    "x = 100\n",
    "print(first_and_last(arr, x))\n"
   ]
  },
  {
   "cell_type": "code",
   "execution_count": 3,
   "id": "1064c22d",
   "metadata": {},
   "outputs": [
    {
     "data": {
      "text/plain": [
       "6"
      ]
     },
     "execution_count": 3,
     "metadata": {},
     "output_type": "execute_result"
    }
   ],
   "source": [
    "#gcd\n",
    "\n",
    "# def gcd(a,b):\n",
    "#     if b==0:\n",
    "#         return a\n",
    "#     return gcd(b,a%b)\n",
    "# gcd(48,18)\n",
    "#other methode \n",
    "\n",
    "def gcd(a,b):\n",
    "    while b:\n",
    "        a,b=b,a%b\n",
    "    return a\n",
    "gcd(48,18)"
   ]
  },
  {
   "cell_type": "code",
   "execution_count": 8,
   "id": "cf68161d",
   "metadata": {},
   "outputs": [
    {
     "data": {
      "text/plain": [
       "120"
      ]
     },
     "execution_count": 8,
     "metadata": {},
     "output_type": "execute_result"
    }
   ],
   "source": [
    "# factorial \n",
    "\n",
    "def fact(n):\n",
    "    if n==0 or n==1:\n",
    "        return 1\n",
    "    else:\n",
    "  \n",
    "        return n*fact(n-1)\n",
    "fact(5)\n"
   ]
  },
  {
   "cell_type": "code",
   "execution_count": 26,
   "id": "42f34927",
   "metadata": {},
   "outputs": [
    {
     "name": "stdout",
     "output_type": "stream",
     "text": [
      "[0, 1, 1, 2, 3, 5, 8, 13, 21, 34]\n"
     ]
    }
   ],
   "source": [
    "n = 10\n",
    "\n",
    "if n <= 0:\n",
    "    print(\"Invalid input\")\n",
    "elif n == 1:\n",
    "    fib = [0]\n",
    "elif n == 2:\n",
    "    fib = [0, 1]\n",
    "else:\n",
    "    fib = [0, 1]\n",
    "    a, b = 0, 1\n",
    "    for i in range(2, n):\n",
    "        c = a + b\n",
    "        fib.append(c)\n",
    "        a, b = b, c\n",
    "\n",
    "print(fib)\n"
   ]
  },
  {
   "cell_type": "code",
   "execution_count": null,
   "id": "58fe4788",
   "metadata": {},
   "outputs": [
    {
     "name": "stdout",
     "output_type": "stream",
     "text": [
      "0\n",
      "1\n",
      "[0]\n",
      "[0]\n",
      "[0]\n",
      "[0]\n",
      "[0]\n",
      "[0]\n",
      "[0]\n",
      "[0]\n"
     ]
    }
   ],
   "source": [
    "def fab(n):\n",
    "    if n==0:\n",
    "        return 0\n",
    "    elif n==1:\n",
    "        return 1\n",
    "    else:\n",
    "        #want store in list\n",
    "        fib = []\n",
    "        for i in range(n):\n",
    "            fib.append(fab(i))\n",
    "            return fib\n",
    "        \n",
    "        return fab(n-1)+fab(n-2)\n",
    "for i in range(10):\n",
    "    print(fab(i))"
   ]
  },
  {
   "cell_type": "code",
   "execution_count": 31,
   "id": "28f8b498",
   "metadata": {},
   "outputs": [
    {
     "name": "stdout",
     "output_type": "stream",
     "text": [
      "[0, 1, 1, 2, 3, 5, 8, 13, 21, 34, 55, 89, 144, 233, 377, 610, 987, 1597, 2584, 4181, 6765, 10946, 17711, 28657, 46368, 75025, 121393, 196418, 317811, 514229, 832040, 1346269, 2178309, 3524578, 5702887, 9227465, 14930352, 24157817, 39088169, 63245986, 102334155, 165580141, 267914296, 433494437, 701408733, 1134903170, 1836311903, 2971215073, 4807526976, 7778742049]\n"
     ]
    }
   ],
   "source": [
    "def fab(n):\n",
    "    fib = []\n",
    "    for i in range(n):\n",
    "        if i == 0:\n",
    "            fib.append(0)\n",
    "        elif i == 1:\n",
    "            fib.append(1)\n",
    "        else:\n",
    "            fib.append(fib[-1] + fib[-2])\n",
    "    return fib\n",
    "\n",
    "print(fab(50))\n"
   ]
  },
  {
   "cell_type": "code",
   "execution_count": 38,
   "id": "154fddb5",
   "metadata": {},
   "outputs": [
    {
     "name": "stdout",
     "output_type": "stream",
     "text": [
      "0 1 1 2 3 5 8 13 21 34 "
     ]
    }
   ],
   "source": [
    "def fab(n):\n",
    "    if n == 0:\n",
    "        return 0\n",
    "    elif n == 1:\n",
    "        return 1\n",
    "    else:\n",
    "        return fab(n-1) + fab(n-2)\n",
    "\n",
    "for i in range(10):\n",
    "    print(fab(i), end=\" \")"
   ]
  },
  {
   "cell_type": "code",
   "execution_count": 39,
   "id": "b92b3987",
   "metadata": {},
   "outputs": [
    {
     "data": {
      "text/plain": [
       "15"
      ]
     },
     "execution_count": 39,
     "metadata": {},
     "output_type": "execute_result"
    }
   ],
   "source": [
    "#sum of array\n",
    "def sum_array(arr):\n",
    "    if len(arr) == 0:\n",
    "        return 0\n",
    "    else:\n",
    "        return arr[0] + sum_array(arr[1:])\n",
    "sum_array([1,2,3,4,5])"
   ]
  },
  {
   "cell_type": "code",
   "execution_count": 43,
   "id": "f5ac9a83",
   "metadata": {},
   "outputs": [
    {
     "name": "stdout",
     "output_type": "stream",
     "text": [
      "15\n"
     ]
    }
   ],
   "source": [
    "#sum of array\n",
    "def sum_array(arr):\n",
    "    if len(arr) == 0:\n",
    "        return 0\n",
    "    else:\n",
    "        return arr[0] + sum_array(arr[1:])\n",
    "print(sum_array([1,2,3,4,5]))"
   ]
  },
  {
   "cell_type": "code",
   "execution_count": 44,
   "id": "ea3c34e2",
   "metadata": {},
   "outputs": [
    {
     "name": "stdout",
     "output_type": "stream",
     "text": [
      "15\n"
     ]
    }
   ],
   "source": [
    "def array(arr,n):\n",
    "    if n==0:\n",
    "        return 0\n",
    "    else:\n",
    "        return array(arr,n-1)+arr[n-1]\n",
    "print(array([1,2,3,4,5],5))"
   ]
  },
  {
   "cell_type": "code",
   "execution_count": null,
   "id": "ece24c24",
   "metadata": {},
   "outputs": [],
   "source": []
  }
 ],
 "metadata": {
  "kernelspec": {
   "display_name": "Python 3",
   "language": "python",
   "name": "python3"
  },
  "language_info": {
   "codemirror_mode": {
    "name": "ipython",
    "version": 3
   },
   "file_extension": ".py",
   "mimetype": "text/x-python",
   "name": "python",
   "nbconvert_exporter": "python",
   "pygments_lexer": "ipython3",
   "version": "3.13.7"
  }
 },
 "nbformat": 4,
 "nbformat_minor": 5
}
