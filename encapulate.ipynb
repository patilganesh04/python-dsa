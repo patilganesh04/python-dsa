{
 "cells": [
  {
   "cell_type": "code",
   "execution_count": 2,
   "id": "f964d35f",
   "metadata": {},
   "outputs": [
    {
     "name": "stdout",
     "output_type": "stream",
     "text": [
      "john\n",
      "bmw\n",
      "jony audi\n"
     ]
    }
   ],
   "source": [
    "#encapulation\n",
    "\n",
    "class person:\n",
    "    def __init__(self,name,car):\n",
    "        self.__name=name\n",
    "        self.__car=car\n",
    "    #getter and setter public method to allow controleer\n",
    "    def getname(self):\n",
    "        return self.__name\n",
    "    def setname(self,name):\n",
    "        self.__name=name\n",
    "    def getcar(self):\n",
    "        return self.__car\n",
    "    def setcar(self,car):\n",
    "        self.__car=car\n",
    "p1=person(\"john\",\"bmw\")\n",
    "print(p1.getname())\n",
    "print(p1.getcar())\n",
    "p1.setname(\"jony\")\n",
    "p1.setcar(\"audi\")\n",
    "print(p1.getname(),p1.getcar())\n",
    "#encapulation\n",
    "#encapulation is the process of wrapping data and methods into a single unit\n",
    "#it is used to restrict access to some of the object's components\n",
    "#it is also used to prevent the accidental modification of data\n",
    "#it is achieved by using private and protected access modifiers\n",
    "#private access modifier is used to restrict access to the members of a class\n",
    "#protected access modifier is used to restrict access to the members of a class and its subclasses\n",
    "#in python we use __ to make a member private and _ to make a member protected\n",
    "#private members can be accessed only within the class\n"
   ]
  },
  {
   "cell_type": "code",
   "execution_count": 11,
   "id": "85596cf2",
   "metadata": {},
   "outputs": [
    {
     "name": "stdout",
     "output_type": "stream",
     "text": [
      "bulldog is eating\n"
     ]
    }
   ],
   "source": [
    "#inhertence\n",
    "class animal:\n",
    "    def __init__(self,name):\n",
    "        self.name=name\n",
    "    def eat(self):\n",
    "        print(self.name+\" is eating\")\n",
    "class dog(animal):\n",
    "    def __init__(self,name,type):\n",
    "        animal.__init__(self,name)\n",
    "        self.type=type\n",
    "    \n",
    "       \n",
    "dog1=dog(\"bulldog\",\"mammal\")\n",
    "dog1.eat()"
   ]
  },
  {
   "cell_type": "code",
   "execution_count": 17,
   "id": "658e1d58",
   "metadata": {},
   "outputs": [
    {
     "name": "stdout",
     "output_type": "stream",
     "text": [
      "child property: 80\n",
      "parent property: 90\n",
      "parent is eating\n",
      "child is eating\n"
     ]
    }
   ],
   "source": [
    "class parent:\n",
    "    propery=90\n",
    "    def eat(self):\n",
    "        print(\"parent is eating\")\n",
    "\n",
    "class child(parent):\n",
    "    propery=80\n",
    "    def show(self):\n",
    "        print(\"child property:\",self.propery)\n",
    "        print(\"parent property:\",super().propery)\n",
    "\n",
    "    def eat(self):\n",
    "        print(\"child is eating\")\n",
    "    def display(self):\n",
    "        super().eat()\n",
    "        \n",
    "        self.eat()\n",
    "c1=child()\n",
    "c1.show()\n",
    "c1.display()"
   ]
  },
  {
   "cell_type": "code",
   "execution_count": null,
   "id": "7271c8d9",
   "metadata": {},
   "outputs": [],
   "source": []
  }
 ],
 "metadata": {
  "kernelspec": {
   "display_name": "Python 3",
   "language": "python",
   "name": "python3"
  },
  "language_info": {
   "codemirror_mode": {
    "name": "ipython",
    "version": 3
   },
   "file_extension": ".py",
   "mimetype": "text/x-python",
   "name": "python",
   "nbconvert_exporter": "python",
   "pygments_lexer": "ipython3",
   "version": "3.13.7"
  }
 },
 "nbformat": 4,
 "nbformat_minor": 5
}
