{
 "cells": [
  {
   "cell_type": "code",
   "execution_count": 1,
   "id": "6ca77368",
   "metadata": {},
   "outputs": [
    {
     "name": "stdout",
     "output_type": "stream",
     "text": [
      "Hello world\n"
     ]
    }
   ],
   "source": [
    "#Write a Python program to print \"Hello, World!\".\n",
    "\n",
    "print(\"Hello world\")"
   ]
  },
  {
   "cell_type": "code",
   "execution_count": 2,
   "id": "b10fb6bf",
   "metadata": {},
   "outputs": [
    {
     "name": "stdout",
     "output_type": "stream",
     "text": [
      "6\n"
     ]
    }
   ],
   "source": [
    "#Take two numbers as input and print their sum.\n",
    "\n",
    "x=int(input(\"Enter a number\"))\n",
    "y=int(input(\"enter a number\"))\n",
    "\n",
    "z=x+y\n",
    "print(z)"
   ]
  },
  {
   "cell_type": "code",
   "execution_count": null,
   "id": "79a3502b",
   "metadata": {},
   "outputs": [
    {
     "name": "stdout",
     "output_type": "stream",
     "text": [
      "172\n"
     ]
    }
   ],
   "source": [
    "#other way\n",
    "\n",
    "n=int(input(\"Enter a how much number addition you want\"))\n",
    "a1=0\n",
    "for i in range(n):\n",
    "    a=int(input(\"enter a number:\"))\n",
    "    a1+=a\n",
    "print(a1)"
   ]
  },
  {
   "cell_type": "code",
   "execution_count": 8,
   "id": "b3c7b740",
   "metadata": {},
   "outputs": [
    {
     "name": "stdout",
     "output_type": "stream",
     "text": [
      "given number 43 is odd\n"
     ]
    }
   ],
   "source": [
    "#Write a program to find whether a given number is even or odd.\n",
    "\n",
    "n=int(input(\"Enter a number:\"))\n",
    "if(n%2==0):\n",
    "    print(f\"given number {n} is evev\")\n",
    "else:\n",
    "     print(f\"given number {n} is odd\")\n"
   ]
  },
  {
   "cell_type": "code",
   "execution_count": 11,
   "id": "14b215ab",
   "metadata": {},
   "outputs": [
    {
     "name": "stdout",
     "output_type": "stream",
     "text": [
      "The number are in list: [32424, 24352, 245246]\n",
      "the highest number of in the list is: 245246\n"
     ]
    }
   ],
   "source": [
    "#Write a Python program to find the largest of three numbers.\n",
    "n=int(input(\"Enter a how much number addition you want\"))\n",
    "a1=[]\n",
    "for i in range(n):\n",
    "    a=int(input(\"enter a number:\"))\n",
    "    a1.append(a)\n",
    "\n",
    "print(\"The number are in list:\",a1)\n",
    "print(\"the highest number of in the list is:\" ,max(a1))\n",
    "\n"
   ]
  },
  {
   "cell_type": "code",
   "execution_count": 13,
   "id": "34990403",
   "metadata": {},
   "outputs": [
    {
     "name": "stdout",
     "output_type": "stream",
     "text": [
      "The largest number is 56\n"
     ]
    }
   ],
   "source": [
    "#other ways:\n",
    "# a = int(input(\"Enter first number: \"))\n",
    "# b = int(input(\"Enter second number: \"))\n",
    "# c = int(input(\"Enter third number: \"))\n",
    "\n",
    "# if a >= b and a >= c:\n",
    "#     print(\"The largest number is\", a)\n",
    "# elif b >= a and b >= c:\n",
    "#     print(\"The largest number is\", b)\n",
    "# else:\n",
    "#     print(\"The largest number is\", c)\n",
    "\n",
    "a = int(input(\"Enter first number: \"))\n",
    "b = int(input(\"Enter second number: \"))\n",
    "c = int(input(\"Enter third number: \"))\n",
    "\n",
    "print(\"The largest number is\", max(a, b, c))\n",
    "\n",
    "\n"
   ]
  },
  {
   "cell_type": "code",
   "execution_count": null,
   "id": "b7a4188d",
   "metadata": {},
   "outputs": [
    {
     "name": "stdout",
     "output_type": "stream",
     "text": [
      " a is : 54\n",
      "b is a: 43\n"
     ]
    }
   ],
   "source": [
    "#Write a program to swap two variables without using a third variable\n",
    "\n",
    "#first way\n",
    "\n",
    "a=int(input(\"enter a number\"))\n",
    "b=int(input(\"enter second number:\"))\n",
    "\n",
    "a,b= b,a\n",
    "print(\"a is :\",a)\n",
    "print(\"b is a:\",b)"
   ]
  },
  {
   "cell_type": "code",
   "execution_count": 18,
   "id": "cf70396e",
   "metadata": {},
   "outputs": [
    {
     "name": "stdout",
     "output_type": "stream",
     "text": [
      "a=65 b=54\n"
     ]
    }
   ],
   "source": [
    "#second way\n",
    "# a=int(input(\"enter a number\"))\n",
    "# b=int(input(\"enter second number:\"))\n",
    "\n",
    "# a=a+b\n",
    "# a=a-b\n",
    "# b=a-b\n",
    "\n",
    "# print(\"after swaping:\")\n",
    "# print(f\"a={a} b={b}\")\n",
    "\n",
    "a=int(input(\"enter a number\"))\n",
    "b=int(input(\"enter second number:\"))\n",
    "\n",
    "temp=a\n",
    "a=b\n",
    "b=temp\n",
    "print(f\"a={a} b={b}\")\n"
   ]
  },
  {
   "cell_type": "code",
   "execution_count": 19,
   "id": "c6ea432b",
   "metadata": {},
   "outputs": [
    {
     "name": "stdout",
     "output_type": "stream",
     "text": [
      "0 1 2 3 4 5 6 7 8 9 10 11 12 13 14 15 16 17 18 19 20 21 22 23 24 25 26 27 28 29 30 31 32 33 34 35 36 37 38 39 40 41 42 43 44 45 46 47 48 49 "
     ]
    }
   ],
   "source": [
    "#Print all numbers from 1 to 50 using a for loop.\n",
    "\n",
    "for i in range(50):\n",
    "    print(i,end=\" \")"
   ]
  },
  {
   "cell_type": "code",
   "execution_count": 20,
   "id": "2cdc604b",
   "metadata": {},
   "outputs": [
    {
     "name": "stdout",
     "output_type": "stream",
     "text": [
      "24\n"
     ]
    }
   ],
   "source": [
    "#Write a program to find the factorial of a number.\n",
    "\n",
    "n=int(input(\"enter a number:\"))\n",
    "\n",
    "fact=1\n",
    "for i in range(1,n+1):\n",
    "    fact=fact*i\n",
    "print(fact)"
   ]
  },
  {
   "cell_type": "code",
   "execution_count": 27,
   "id": "6968b82f",
   "metadata": {},
   "outputs": [
    {
     "name": "stdout",
     "output_type": "stream",
     "text": [
      "factorial number is 24\n"
     ]
    }
   ],
   "source": [
    "def fact(n):\n",
    "    fact1=1\n",
    "    for i in range(1,n+1):\n",
    "        fact1=fact1*i\n",
    "    return fact1\n",
    "num1=int(input(\"Enter a number:\"))\n",
    "print(f\"factorial number is {fact(num1)}\")"
   ]
  },
  {
   "cell_type": "code",
   "execution_count": 30,
   "id": "edf79775",
   "metadata": {},
   "outputs": [
    {
     "name": "stdout",
     "output_type": "stream",
     "text": [
      "Factorial of 43 is 60415263063373835637355132068513997507264512000000000\n"
     ]
    }
   ],
   "source": [
    "def factorial(n):\n",
    "    if n == 0 or n == 1:\n",
    "        return 1\n",
    "    else:\n",
    "        return n * factorial(n - 1)\n",
    "\n",
    "num =int(input())\n",
    "print(f\"Factorial of {num} is {factorial(num)}\")"
   ]
  },
  {
   "cell_type": "code",
   "execution_count": null,
   "id": "a4ffd72c",
   "metadata": {},
   "outputs": [
    {
     "name": "stdout",
     "output_type": "stream",
     "text": [
      "the given is prime\n"
     ]
    }
   ],
   "source": [
    "#Write a program to check if a number is a prime number.\n",
    "\n",
    "a=int(input(\"Enter a number:\"))\n",
    "\n",
    "if a<=1:\n",
    "    print(f\"the given number {a} is not prime\")\n",
    "else:\n",
    "    is_prime=True\n",
    "\n",
    "    for i in range(2,a):\n",
    "        if a%i==0:\n",
    "            is_prime=False\n",
    "            break\n",
    "    if(is_prime):\n",
    "        print(f\"the given {a} is prime\")\n",
    "    else:\n",
    "        print(\"the given {a} is not prime\")\n",
    "        "
   ]
  },
  {
   "cell_type": "code",
   "execution_count": 44,
   "id": "4b248bcb",
   "metadata": {},
   "outputs": [
    {
     "name": "stdout",
     "output_type": "stream",
     "text": [
      "3 x 1 = 3\n",
      "3 x 2 = 6\n",
      "3 x 3 = 9\n",
      "3 x 4 = 12\n",
      "3 x 5 = 15\n",
      "3 x 6 = 18\n",
      "3 x 7 = 21\n",
      "3 x 8 = 24\n",
      "3 x 9 = 27\n",
      "3 x 10 = 30\n"
     ]
    }
   ],
   "source": [
    "#Print the multiplication table of a given number.\n",
    "n=int(input(\"Enter a number:\"))\n",
    "for i in range(1,11):\n",
    "    a=n*i\n",
    "    print(f\"{n} x {i} = {a}\")\n",
    "\n"
   ]
  },
  {
   "cell_type": "code",
   "execution_count": 55,
   "id": "a022f35b",
   "metadata": {},
   "outputs": [
    {
     "name": "stdout",
     "output_type": "stream",
     "text": [
      "yuio\n",
      "['u', 'i', 'o']\n"
     ]
    }
   ],
   "source": [
    "str12=input(\"enter a string:\")\n",
    "str1=str12.lower()\n",
    "print(str1)\n",
    "a=[]\n",
    "for ch in str1: \n",
    "    if ch in \"aeiou\":\n",
    "        a.append(ch)\n",
    "print(a)   \n",
    "        \n"
   ]
  },
  {
   "cell_type": "code",
   "execution_count": 58,
   "id": "57037a99",
   "metadata": {},
   "outputs": [
    {
     "name": "stdout",
     "output_type": "stream",
     "text": [
      "hsenaG\n"
     ]
    }
   ],
   "source": [
    "#Write a program to reverse a string.\n",
    "\n",
    "a=input(\"Enter a word\")\n",
    "\n",
    "revese=a[::-1]\n",
    "print(revese)\n"
   ]
  },
  {
   "cell_type": "code",
   "execution_count": null,
   "id": "c4f9aed5",
   "metadata": {},
   "outputs": [
    {
     "name": "stdout",
     "output_type": "stream",
     "text": [
      "kenfwf is not a palindrome\n"
     ]
    }
   ],
   "source": [
    "#Write a program to check if a string is a palindrome (same forward and backward).\n",
    "\n",
    "s = input(\"Enter a string: \")\n",
    "s_lower = s.lower()\n",
    "\n",
    "reverse_s = \"\"\n",
    "for ch in s_lower:\n",
    "    reverse_s = ch + reverse_s   \n",
    "\n",
    "if s_lower == reverse_s:\n",
    "    print(f\"{s} is a palindrome\")\n",
    "else:\n",
    "    print(f\"{s} is not a palindrome\")\n",
    "\n"
   ]
  },
  {
   "cell_type": "code",
   "execution_count": 61,
   "id": "55740415",
   "metadata": {},
   "outputs": [
    {
     "name": "stdout",
     "output_type": "stream",
     "text": [
      "gng is a palindrome\n"
     ]
    }
   ],
   "source": [
    "#or\n",
    "\n",
    "s = input(\"Enter a string: \")\n",
    "s_lower = s.lower()\n",
    "reverse_s = s_lower[::-1]\n",
    "if s_lower == reverse_s:\n",
    "    print(f\"{s} is a palindrome\")\n",
    "else:\n",
    "    print(f\"{s} is not a palindrome\")\n",
    "\n",
    " \n"
   ]
  },
  {
   "cell_type": "code",
   "execution_count": null,
   "id": "f4af4524",
   "metadata": {},
   "outputs": [
    {
     "name": "stdout",
     "output_type": "stream",
     "text": [
      "090 is not a palindrome\n"
     ]
    }
   ],
   "source": [
    "s =input(\"Enter a number: \")\n",
    "reverse_s =s[::-1]\n",
    "if s_lower == reverse_s:\n",
    "    print(f\"{s} is a palindrome\")\n",
    "else:\n",
    "    print(f\"{s} is not a palindrome\")"
   ]
  },
  {
   "cell_type": "code",
   "execution_count": 71,
   "id": "f8160d28",
   "metadata": {},
   "outputs": [
    {
     "name": "stdout",
     "output_type": "stream",
     "text": [
      "122 is not a palindrome\n"
     ]
    }
   ],
   "source": [
    "num = int(input(\"Enter a number: \"))\n",
    "num_str = str(num)\n",
    "\n",
    "if num_str == num_str[::-1]:\n",
    "    print(f\"{num} is a palindrome\")\n",
    "else:\n",
    "    print(f\"{num} is not a palindrome\")\n"
   ]
  },
  {
   "cell_type": "code",
   "execution_count": 73,
   "id": "b4afb3c3",
   "metadata": {},
   "outputs": [
    {
     "name": "stdout",
     "output_type": "stream",
     "text": [
      "122 is not a palindrome\n"
     ]
    }
   ],
   "source": [
    "num = int(input(\"Enter a number: \"))\n",
    "original = num\n",
    "reverse = 0\n",
    "\n",
    "while num > 0:\n",
    "    digit = num % 10       # Get last digit\n",
    "    reverse = reverse * 10 + digit\n",
    "    num = num // 10        # Remove last digit\n",
    "\n",
    "if original == reverse:\n",
    "    print(f\"{original} is a palindrome\")\n",
    "else:\n",
    "    print(f\"{original} is not a palindrome\")\n"
   ]
  },
  {
   "cell_type": "code",
   "execution_count": null,
   "id": "184b895f",
   "metadata": {},
   "outputs": [
    {
     "name": "stdout",
     "output_type": "stream",
     "text": [
      "[2, 2, 2]\n",
      "3\n"
     ]
    }
   ],
   "source": [
    "#Write a program to sum all elements in a list\n",
    "n=int(input(\"enter how number add in list\"))\n",
    "a=[]\n",
    "a3=0\n",
    "for i in range(n):\n",
    "    a1=int(input())\n",
    "    a.append(a1)\n",
    "print(a)\n",
    "for j in range(len(a)):\n",
    "    a3+=a[j]\n",
    "print(a3)"
   ]
  },
  {
   "cell_type": "code",
   "execution_count": 86,
   "id": "48260a53",
   "metadata": {},
   "outputs": [
    {
     "name": "stdout",
     "output_type": "stream",
     "text": [
      "[1, 2, 3, 4, 5]\n"
     ]
    }
   ],
   "source": [
    "#Write a Python program to remove duplicates from a list.\n",
    "\n",
    "list1=[1, 2, 2, 3, 4, 4, 5]\n",
    "\n",
    "uniquelist=list(set(list1))\n",
    "print(uniquelist)"
   ]
  },
  {
   "cell_type": "code",
   "execution_count": 87,
   "id": "4cc570bd",
   "metadata": {},
   "outputs": [
    {
     "name": "stdout",
     "output_type": "stream",
     "text": [
      "[1, 2, 3, 4, 5]\n"
     ]
    }
   ],
   "source": [
    "#other methode\n",
    "list1=[1, 2, 2, 3, 4, 4, 5]\n",
    "unique_list=[]\n",
    "for item in list1:\n",
    "    if item not in unique_list:\n",
    "        unique_list.append(item)\n",
    "print(unique_list)"
   ]
  },
  {
   "cell_type": "code",
   "execution_count": 89,
   "id": "92365b64",
   "metadata": {},
   "outputs": [
    {
     "name": "stdout",
     "output_type": "stream",
     "text": [
      "45\n"
     ]
    }
   ],
   "source": [
    "#Write a program to sum all elements in a list\n",
    "n=int(input(\"enter how number add in list\"))\n",
    "sum=0\n",
    "for i in range(n):\n",
    "    sum+=i\n",
    "print(sum)\n",
    "\n",
    "    "
   ]
  },
  {
   "cell_type": "code",
   "execution_count": 90,
   "id": "705ebed4",
   "metadata": {},
   "outputs": [
    {
     "name": "stdout",
     "output_type": "stream",
     "text": [
      "Fibonacci series:\n",
      "0 1 1 2 3 "
     ]
    }
   ],
   "source": [
    "#Write a Python program to print the Fibonacci series up to n terms\n",
    "n = int(input(\"Enter number of terms: \"))\n",
    "\n",
    "# First two terms\n",
    "a, b = 0, 1\n",
    "\n",
    "print(\"Fibonacci series:\")\n",
    "for i in range(n):\n",
    "    print(a, end=\" \")\n",
    "    c = a + b  # next term\n",
    "    a = b\n",
    "    b = c\n"
   ]
  },
  {
   "cell_type": "code",
   "execution_count": 92,
   "id": "d85b8eb4",
   "metadata": {},
   "outputs": [
    {
     "name": "stdout",
     "output_type": "stream",
     "text": [
      "Fibonacci series: [0, 1, 1, 2]\n"
     ]
    }
   ],
   "source": [
    "def fibonacci(n):\n",
    "    a, b = 0, 1\n",
    "    series = []\n",
    "    for i in range(n):\n",
    "        series.append(a)\n",
    "        c=a+b\n",
    "        a=b\n",
    "        b=c\n",
    "    return series\n",
    "\n",
    "n = int(input(\"Enter number of terms: \"))\n",
    "print(\"Fibonacci series:\", fibonacci(n))\n"
   ]
  },
  {
   "cell_type": "code",
   "execution_count": null,
   "id": "e6d36d38",
   "metadata": {},
   "outputs": [
    {
     "name": "stdout",
     "output_type": "stream",
     "text": [
      "e:1\n",
      "f:1\n"
     ]
    }
   ],
   "source": [
    "#Count the frequency of each character in a string.\n",
    "\n",
    "s=input(\"enter a string:\")\n",
    "\n",
    "freq={}\n",
    "\n",
    "for ch in s:\n",
    "    if ch in freq:\n",
    "        freq[ch]+=1\n",
    "    else:\n",
    "        freq[ch]=1\n",
    "for ch,count in freq.items():\n",
    "    print(f\"{ch}:{count}\")"
   ]
  },
  {
   "cell_type": "code",
   "execution_count": 105,
   "id": "6e4a261d",
   "metadata": {},
   "outputs": [
    {
     "name": "stdout",
     "output_type": "stream",
     "text": [
      "5\n"
     ]
    }
   ],
   "source": [
    " #Find the second largest element in a list.\n",
    "\n",
    "a=[1,3,2,4,5,6]\n",
    "a.sort()\n",
    "\n",
    "print(a[-2])\n"
   ]
  },
  {
   "cell_type": "code",
   "execution_count": 106,
   "id": "6dc54cea",
   "metadata": {},
   "outputs": [
    {
     "name": "stdout",
     "output_type": "stream",
     "text": [
      "Vowels: 1\n",
      "Consonants: 2\n",
      "Number of words: 1\n",
      "Character frequency:\n",
      "String without spaces: dr\n",
      "Anagrams\n"
     ]
    }
   ],
   "source": [
    "#Count vowels and consonants\n",
    "s = input(\"Enter a string: \").lower()\n",
    "vowels = \"aeiou\"\n",
    "vowel_count = 0\n",
    "consonant_count = 0\n",
    "\n",
    "for char in s:\n",
    "    if char.isalpha():\n",
    "        if char in vowels:\n",
    "            vowel_count += 1\n",
    "        else:\n",
    "            consonant_count += 1\n",
    "\n",
    "print(\"Vowels:\", vowel_count)\n",
    "print(\"Consonants:\", consonant_count)\n",
    "\n",
    "#4. Count words in a string\n",
    "s = input(\"Enter a string: \")\n",
    "words = s.split()  # Split by whitespace\n",
    "print(\"Number of words:\", len(words))\n",
    "\n",
    "#5. Find the frequency of each character\n",
    "s = input(\"Enter a string: \")\n",
    "freq = {}\n",
    "\n",
    "for char in s:\n",
    "    if char in freq:\n",
    "        freq[char] += 1\n",
    "    else:\n",
    "        freq[char] = 1\n",
    "\n",
    "print(\"Character frequency:\")\n",
    "for char, count in freq.items():\n",
    "    print(f\"{char}: {count}\")\n",
    "\n",
    "#6. Remove spaces from a string\n",
    "s = input(\"Enter a string: \")\n",
    "s_no_spaces = s.replace(\" \", \"\")\n",
    "print(\"String without spaces:\", s_no_spaces)\n",
    "\n",
    "#7. Check if two strings are anagrams\n",
    "s1 = input(\"Enter first string: \").replace(\" \", \"\").lower()\n",
    "s2 = input(\"Enter second string: \").replace(\" \", \"\").lower()\n",
    "\n",
    "if sorted(s1) == sorted(s2):\n",
    "    print(\"Anagrams\")\n",
    "else:\n",
    "    print(\"Not anagrams\")\n",
    "\n",
    " "
   ]
  },
  {
   "cell_type": "code",
   "execution_count": 108,
   "id": "b756119e",
   "metadata": {},
   "outputs": [
    {
     "name": "stdout",
     "output_type": "stream",
     "text": [
      "1 1\n",
      "2 1\n",
      "3 1\n",
      "4 1\n",
      "5 4\n",
      "6 3\n",
      "7 3\n"
     ]
    }
   ],
   "source": [
    "list1=[1,2,3,4,5,5,5,5,6,6,6,7,7,7]\n",
    "\n",
    "dic={}\n",
    "\n",
    "for num in list1:\n",
    "    if num in dic:\n",
    "        dic[num]+=1\n",
    "    else:\n",
    "        dic[num]=1\n",
    "for num,count in dic.items():\n",
    "    print(f\"{num} {count}\")"
   ]
  },
  {
   "cell_type": "code",
   "execution_count": null,
   "id": "8f7fa80f",
   "metadata": {},
   "outputs": [],
   "source": []
  }
 ],
 "metadata": {
  "kernelspec": {
   "display_name": "Python 3",
   "language": "python",
   "name": "python3"
  },
  "language_info": {
   "codemirror_mode": {
    "name": "ipython",
    "version": 3
   },
   "file_extension": ".py",
   "mimetype": "text/x-python",
   "name": "python",
   "nbconvert_exporter": "python",
   "pygments_lexer": "ipython3",
   "version": "3.13.7"
  }
 },
 "nbformat": 4,
 "nbformat_minor": 5
}
