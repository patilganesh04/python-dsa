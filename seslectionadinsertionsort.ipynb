{
 "cells": [
  {
   "cell_type": "code",
   "execution_count": 1,
   "id": "cb80efd5",
   "metadata": {},
   "outputs": [],
   "source": [
    "def selection(arr):\n",
    "    n=len(arr)\n",
    "\n",
    "    for i in range(n):\n",
    "        min_index=i\n",
    "        for j in range(i+1,n):\n",
    "            if arr[j]<arr[min_index]:\n",
    "                min_index=j\n",
    "        arr[i],arr[min_index]=arr[min_index],arr[i]\n",
    "    return arr"
   ]
  },
  {
   "cell_type": "code",
   "execution_count": 2,
   "id": "abffa5e1",
   "metadata": {},
   "outputs": [
    {
     "data": {
      "text/plain": [
       "[3, 4, 7, 9, 23, 24, 43, 54, 65, 76]"
      ]
     },
     "execution_count": 2,
     "metadata": {},
     "output_type": "execute_result"
    }
   ],
   "source": [
    "arr=[43,23,54,24,76,7,65,4,3,9]\n",
    "selection(arr)"
   ]
  },
  {
   "cell_type": "code",
   "execution_count": 3,
   "id": "b1960169",
   "metadata": {},
   "outputs": [],
   "source": [
    "#insertion sort\n",
    "\n",
    "def insertion(arr):\n",
    "    n=len(arr)\n",
    "\n",
    "    for i in range(1,n):\n",
    "        key=arr[i]\n",
    "        j=i-1\n",
    "        while j>=0 and key<arr[j]:\n",
    "            arr[j+1]=arr[j]\n",
    "            j-=1\n",
    "        arr[j+1]=key\n",
    "    return arr"
   ]
  },
  {
   "cell_type": "code",
   "execution_count": 24,
   "id": "d3d1f38b",
   "metadata": {},
   "outputs": [],
   "source": [
    "def zero_at_first(arr):\n",
    "    n = len(arr)\n",
    "    count = n - 1  # Start from the end\n",
    "    temp = [0] * n\n",
    "\n",
    "    # Copy non-zero elements from the end\n",
    "    for i in range(n - 1, -1,-1):\n",
    "        if arr[i] != 0:\n",
    "            temp[count] = arr[i]\n",
    "            count -= 1\n",
    "\n",
    "    \n",
    "    # Copy back to original array\n",
    "    for i in range(n):\n",
    "        arr[i] = temp[i]\n",
    "\n",
    "    return arr\n"
   ]
  },
  {
   "cell_type": "code",
   "execution_count": 25,
   "id": "3537586e",
   "metadata": {},
   "outputs": [
    {
     "data": {
      "text/plain": [
       "[0, 0, 0, 0, 0, 1, 9, 8, 4, 2, 7, 6, 9]"
      ]
     },
     "execution_count": 25,
     "metadata": {},
     "output_type": "execute_result"
    }
   ],
   "source": [
    "arr = [0, 1, 9, 8, 4, 0, 0, 2, 7, 0, 6, 0, 9]\n",
    "zero_at_first(arr)"
   ]
  },
  {
   "cell_type": "code",
   "execution_count": 40,
   "id": "4a284242",
   "metadata": {},
   "outputs": [
    {
     "data": {
      "text/plain": [
       "[1, 2, 2, 3, 4, 2]"
      ]
     },
     "execution_count": 40,
     "metadata": {},
     "output_type": "execute_result"
    }
   ],
   "source": [
    "class Solution:\n",
    "    def removeElement(self, nums=[0, 1, 2, 2, 3, 0, 4, 2], val=0) -> int:\n",
    "        count=0\n",
    "        n=len(nums)\n",
    "        temp=[]\n",
    "       \n",
    "        for i in range(0,n):\n",
    "            if nums[i]!=val:\n",
    "                temp.append(nums[i])\n",
    "                count+=1\n",
    "            \n",
    "\n",
    "        return temp\n",
    "s=Solution()\n",
    "s.removeElement()"
   ]
  },
  {
   "cell_type": "code",
   "execution_count": 46,
   "id": "d30bef0f",
   "metadata": {},
   "outputs": [
    {
     "name": "stdout",
     "output_type": "stream",
     "text": [
      "[1, 2, 3, 4, 5]\n"
     ]
    }
   ],
   "source": [
    " \n",
    "\n",
    "class Solution:\n",
    "    def removeDuplicates(self, num: List[int]) -> List[int]:\n",
    "        temp = []\n",
    "        n = len(num)\n",
    "        \n",
    "        for i in range(n):\n",
    "            if num[i] not in temp:\n",
    "                temp.append(num[i])\n",
    "        \n",
    "       \n",
    "        for i in range(len(temp)):\n",
    "            num[i] = temp[i]\n",
    "       \n",
    "        return num[:len(temp)]\n",
    "s = Solution()\n",
    " \n",
    "print(s.removeDuplicates([1,1,2,2,3,4,4,5]))"
   ]
  },
  {
   "cell_type": "code",
   "execution_count": 51,
   "id": "bdd3512d",
   "metadata": {},
   "outputs": [
    {
     "name": "stdout",
     "output_type": "stream",
     "text": [
      "[3, 4, 7, 9, 23, 24, 43, 54, 65, 76]\n"
     ]
    }
   ],
   "source": [
    "#insertio n sort\n",
    "\n",
    "def insertion1(arr):\n",
    "    n = len(arr)\n",
    "    for i in range(1, n):\n",
    "        j = i\n",
    "        while j > 0 and arr[j] < arr[j - 1]:\n",
    "            arr[j], arr[j - 1] = arr[j - 1], arr[j]\n",
    "            j -= 1\n",
    "    return arr\n",
    "\n",
    "arr = [43, 23, 54, 24, 76, 7, 65, 4, 3, 9]\n",
    "print(insertion1(arr))\n",
    "\n"
   ]
  },
  {
   "cell_type": "code",
   "execution_count": 55,
   "id": "cc006c38",
   "metadata": {},
   "outputs": [
    {
     "name": "stdout",
     "output_type": "stream",
     "text": [
      "[7]\n"
     ]
    }
   ],
   "source": [
    "class Solution:\n",
    "    def findDuplicates(self, nums):\n",
    "        seen = set()\n",
    "        res = []\n",
    "        for num in nums:\n",
    "            if num in seen:\n",
    "                res.append(num)\n",
    "            else:\n",
    "                seen.add(num)\n",
    "        return res\n",
    "num = [43, 23, 54, 24, 76, 7, 7, 65, 4, 3, 9]\n",
    "s = Solution()\n",
    "print(s.findDuplicates(num))\n"
   ]
  },
  {
   "cell_type": "code",
   "execution_count": null,
   "id": "fb26b212",
   "metadata": {},
   "outputs": [
    {
     "name": "stdout",
     "output_type": "stream",
     "text": [
      "[43, 23, 54, 24, 76, 7, 7, 65, 4, 3, 9]\n"
     ]
    }
   ],
   "source": [
    "class Solution:\n",
    "    def findDuplicates(self, nums):\n",
    "        seen = set()\n",
    "        res = []\n",
    "        for num in nums:\n",
    "            if num in seen:\n",
    "                res.append(num)\n",
    "            else:\n",
    "                seen.add(num)\n",
    "        return res\n",
    "num = [43, 23, 54, 24, 76, 7, 7, 65, 4, 3, 9]\n",
    "s = Solution()\n",
    "print(s.findDuplicates(num))\n"
   ]
  },
  {
   "cell_type": "code",
   "execution_count": 57,
   "id": "5d2f0a29",
   "metadata": {},
   "outputs": [
    {
     "name": "stdout",
     "output_type": "stream",
     "text": [
      "[7]\n"
     ]
    }
   ],
   "source": [
    "class Solution:\n",
    "    def findDuplicates(self, nums):\n",
    "        seen = set()\n",
    "        res = []\n",
    "        for num in nums:\n",
    "            if num not in  seen:\n",
    "                seen.add(num)\n",
    "            else:\n",
    "                res.append(num)\n",
    "        return res\n",
    "num = [43, 23, 54, 24, 76, 7, 7, 65, 4, 3, 9]\n",
    "s = Solution()\n",
    "print(s.findDuplicates(num))\n"
   ]
  },
  {
   "cell_type": "code",
   "execution_count": null,
   "id": "9bf78637",
   "metadata": {},
   "outputs": [],
   "source": []
  }
 ],
 "metadata": {
  "kernelspec": {
   "display_name": "Python 3",
   "language": "python",
   "name": "python3"
  },
  "language_info": {
   "codemirror_mode": {
    "name": "ipython",
    "version": 3
   },
   "file_extension": ".py",
   "mimetype": "text/x-python",
   "name": "python",
   "nbconvert_exporter": "python",
   "pygments_lexer": "ipython3",
   "version": "3.13.7"
  }
 },
 "nbformat": 4,
 "nbformat_minor": 5
}
